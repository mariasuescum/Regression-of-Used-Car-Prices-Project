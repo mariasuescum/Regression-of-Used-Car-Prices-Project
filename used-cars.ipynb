{
 "cells": [
  {
   "cell_type": "markdown",
   "metadata": {},
   "source": [
    "# PROYECTO V - PROBLEMA DE REGRESIÓN\n",
    "\n",
    "En este proyecto de problema de regresión hemos decidido usar un [Dataset](https://www.kaggle.com/competitions/playground-series-s4e9/overview) de precio de coches usados. El proyecto está enfocado a las personas que quieran vender su coche y quieran tener una idea del precio de venta de antemano. Para poder hacer un estudio del Dataset y crear un Modelo que prediga los precios de venta del coche lo primero que vamos a hacer es una limpieza del Dataset, ver los valores faltantes o outliers y poder tratarlos.\n",
    "\n",
    "Tras la limpieza de los datos los datos para calcular el precio del coche son:\n",
    "- Características: \n",
    "    - brand\n",
    "    - model\n",
    "    - model_year\n",
    "    - milage\n",
    "    - fuel_type\n",
    "    - engine\n",
    "    - transmission\n",
    "    - ext_col\n",
    "    - int_col\n",
    "    - accident\n",
    "    - price\n",
    "- Etiqueta: precio del coche\n",
    "\n",
    "Vamos a ver los pasos que hemos realizado para llegar a tener las columnas listas."
   ]
  },
  {
   "cell_type": "markdown",
   "metadata": {},
   "source": [
    "## PASO 1: REVISAR EL DATASET\n",
    "\n",
    "### Importar el dataset."
   ]
  },
  {
   "cell_type": "code",
   "execution_count": 2,
   "metadata": {},
   "outputs": [],
   "source": [
    "import pandas as pd\n",
    "import matplotlib.pyplot as plt\n",
    "import seaborn as sns\n",
    "import numpy as np\n",
    "\n",
    "df = pd.read_csv('data/used_cars.csv')"
   ]
  },
  {
   "cell_type": "markdown",
   "metadata": {},
   "source": [
    "### Imprimir cabeceras del dataset y tener una idea clara de los tipos de datos que tenemos."
   ]
  },
  {
   "cell_type": "code",
   "execution_count": 6,
   "metadata": {},
   "outputs": [
    {
     "name": "stdout",
     "output_type": "stream",
     "text": [
      "<class 'pandas.core.frame.DataFrame'>\n",
      "RangeIndex: 4009 entries, 0 to 4008\n",
      "Data columns (total 12 columns):\n",
      " #   Column        Non-Null Count  Dtype \n",
      "---  ------        --------------  ----- \n",
      " 0   brand         4009 non-null   object\n",
      " 1   model         4009 non-null   object\n",
      " 2   model_year    4009 non-null   int64 \n",
      " 3   milage        4009 non-null   object\n",
      " 4   fuel_type     3839 non-null   object\n",
      " 5   engine        4009 non-null   object\n",
      " 6   transmission  4009 non-null   object\n",
      " 7   ext_col       4009 non-null   object\n",
      " 8   int_col       4009 non-null   object\n",
      " 9   accident      3896 non-null   object\n",
      " 10  clean_title   3413 non-null   object\n",
      " 11  price         4009 non-null   object\n",
      "dtypes: int64(1), object(11)\n",
      "memory usage: 376.0+ KB\n"
     ]
    },
    {
     "data": {
      "application/vnd.microsoft.datawrangler.viewer.v0+json": {
       "columns": [
        {
         "name": "index",
         "rawType": "int64",
         "type": "integer"
        },
        {
         "name": "brand",
         "rawType": "object",
         "type": "string"
        },
        {
         "name": "model",
         "rawType": "object",
         "type": "string"
        },
        {
         "name": "model_year",
         "rawType": "int64",
         "type": "integer"
        },
        {
         "name": "milage",
         "rawType": "object",
         "type": "string"
        },
        {
         "name": "fuel_type",
         "rawType": "object",
         "type": "string"
        },
        {
         "name": "engine",
         "rawType": "object",
         "type": "string"
        },
        {
         "name": "transmission",
         "rawType": "object",
         "type": "string"
        },
        {
         "name": "ext_col",
         "rawType": "object",
         "type": "string"
        },
        {
         "name": "int_col",
         "rawType": "object",
         "type": "string"
        },
        {
         "name": "accident",
         "rawType": "object",
         "type": "string"
        },
        {
         "name": "clean_title",
         "rawType": "object",
         "type": "unknown"
        },
        {
         "name": "price",
         "rawType": "object",
         "type": "string"
        }
       ],
       "conversionMethod": "pd.DataFrame",
       "ref": "e6d2f6ce-443d-413b-a164-48c2f5643914",
       "rows": [
        [
         "0",
         "Ford",
         "Utility Police Interceptor Base",
         "2013",
         "51,000 mi.",
         "E85 Flex Fuel",
         "300.0HP 3.7L V6 Cylinder Engine Flex Fuel Capability",
         "6-Speed A/T",
         "Black",
         "Black",
         "At least 1 accident or damage reported",
         "Yes",
         "$10,300"
        ],
        [
         "1",
         "Hyundai",
         "Palisade SEL",
         "2021",
         "34,742 mi.",
         "Gasoline",
         "3.8L V6 24V GDI DOHC",
         "8-Speed Automatic",
         "Moonlight Cloud",
         "Gray",
         "At least 1 accident or damage reported",
         "Yes",
         "$38,005"
        ],
        [
         "2",
         "Lexus",
         "RX 350 RX 350",
         "2022",
         "22,372 mi.",
         "Gasoline",
         "3.5 Liter DOHC",
         "Automatic",
         "Blue",
         "Black",
         "None reported",
         null,
         "$54,598"
        ],
        [
         "3",
         "INFINITI",
         "Q50 Hybrid Sport",
         "2015",
         "88,900 mi.",
         "Hybrid",
         "354.0HP 3.5L V6 Cylinder Engine Gas/Electric Hybrid",
         "7-Speed A/T",
         "Black",
         "Black",
         "None reported",
         "Yes",
         "$15,500"
        ],
        [
         "4",
         "Audi",
         "Q3 45 S line Premium Plus",
         "2021",
         "9,835 mi.",
         "Gasoline",
         "2.0L I4 16V GDI DOHC Turbo",
         "8-Speed Automatic",
         "Glacier White Metallic",
         "Black",
         "None reported",
         null,
         "$34,999"
        ]
       ],
       "shape": {
        "columns": 12,
        "rows": 5
       }
      },
      "text/html": [
       "<div>\n",
       "<style scoped>\n",
       "    .dataframe tbody tr th:only-of-type {\n",
       "        vertical-align: middle;\n",
       "    }\n",
       "\n",
       "    .dataframe tbody tr th {\n",
       "        vertical-align: top;\n",
       "    }\n",
       "\n",
       "    .dataframe thead th {\n",
       "        text-align: right;\n",
       "    }\n",
       "</style>\n",
       "<table border=\"1\" class=\"dataframe\">\n",
       "  <thead>\n",
       "    <tr style=\"text-align: right;\">\n",
       "      <th></th>\n",
       "      <th>brand</th>\n",
       "      <th>model</th>\n",
       "      <th>model_year</th>\n",
       "      <th>milage</th>\n",
       "      <th>fuel_type</th>\n",
       "      <th>engine</th>\n",
       "      <th>transmission</th>\n",
       "      <th>ext_col</th>\n",
       "      <th>int_col</th>\n",
       "      <th>accident</th>\n",
       "      <th>clean_title</th>\n",
       "      <th>price</th>\n",
       "    </tr>\n",
       "  </thead>\n",
       "  <tbody>\n",
       "    <tr>\n",
       "      <th>0</th>\n",
       "      <td>Ford</td>\n",
       "      <td>Utility Police Interceptor Base</td>\n",
       "      <td>2013</td>\n",
       "      <td>51,000 mi.</td>\n",
       "      <td>E85 Flex Fuel</td>\n",
       "      <td>300.0HP 3.7L V6 Cylinder Engine Flex Fuel Capa...</td>\n",
       "      <td>6-Speed A/T</td>\n",
       "      <td>Black</td>\n",
       "      <td>Black</td>\n",
       "      <td>At least 1 accident or damage reported</td>\n",
       "      <td>Yes</td>\n",
       "      <td>$10,300</td>\n",
       "    </tr>\n",
       "    <tr>\n",
       "      <th>1</th>\n",
       "      <td>Hyundai</td>\n",
       "      <td>Palisade SEL</td>\n",
       "      <td>2021</td>\n",
       "      <td>34,742 mi.</td>\n",
       "      <td>Gasoline</td>\n",
       "      <td>3.8L V6 24V GDI DOHC</td>\n",
       "      <td>8-Speed Automatic</td>\n",
       "      <td>Moonlight Cloud</td>\n",
       "      <td>Gray</td>\n",
       "      <td>At least 1 accident or damage reported</td>\n",
       "      <td>Yes</td>\n",
       "      <td>$38,005</td>\n",
       "    </tr>\n",
       "    <tr>\n",
       "      <th>2</th>\n",
       "      <td>Lexus</td>\n",
       "      <td>RX 350 RX 350</td>\n",
       "      <td>2022</td>\n",
       "      <td>22,372 mi.</td>\n",
       "      <td>Gasoline</td>\n",
       "      <td>3.5 Liter DOHC</td>\n",
       "      <td>Automatic</td>\n",
       "      <td>Blue</td>\n",
       "      <td>Black</td>\n",
       "      <td>None reported</td>\n",
       "      <td>NaN</td>\n",
       "      <td>$54,598</td>\n",
       "    </tr>\n",
       "    <tr>\n",
       "      <th>3</th>\n",
       "      <td>INFINITI</td>\n",
       "      <td>Q50 Hybrid Sport</td>\n",
       "      <td>2015</td>\n",
       "      <td>88,900 mi.</td>\n",
       "      <td>Hybrid</td>\n",
       "      <td>354.0HP 3.5L V6 Cylinder Engine Gas/Electric H...</td>\n",
       "      <td>7-Speed A/T</td>\n",
       "      <td>Black</td>\n",
       "      <td>Black</td>\n",
       "      <td>None reported</td>\n",
       "      <td>Yes</td>\n",
       "      <td>$15,500</td>\n",
       "    </tr>\n",
       "    <tr>\n",
       "      <th>4</th>\n",
       "      <td>Audi</td>\n",
       "      <td>Q3 45 S line Premium Plus</td>\n",
       "      <td>2021</td>\n",
       "      <td>9,835 mi.</td>\n",
       "      <td>Gasoline</td>\n",
       "      <td>2.0L I4 16V GDI DOHC Turbo</td>\n",
       "      <td>8-Speed Automatic</td>\n",
       "      <td>Glacier White Metallic</td>\n",
       "      <td>Black</td>\n",
       "      <td>None reported</td>\n",
       "      <td>NaN</td>\n",
       "      <td>$34,999</td>\n",
       "    </tr>\n",
       "  </tbody>\n",
       "</table>\n",
       "</div>"
      ],
      "text/plain": [
       "      brand                            model  model_year      milage  \\\n",
       "0      Ford  Utility Police Interceptor Base        2013  51,000 mi.   \n",
       "1   Hyundai                     Palisade SEL        2021  34,742 mi.   \n",
       "2     Lexus                    RX 350 RX 350        2022  22,372 mi.   \n",
       "3  INFINITI                 Q50 Hybrid Sport        2015  88,900 mi.   \n",
       "4      Audi        Q3 45 S line Premium Plus        2021   9,835 mi.   \n",
       "\n",
       "       fuel_type                                             engine  \\\n",
       "0  E85 Flex Fuel  300.0HP 3.7L V6 Cylinder Engine Flex Fuel Capa...   \n",
       "1       Gasoline                               3.8L V6 24V GDI DOHC   \n",
       "2       Gasoline                                     3.5 Liter DOHC   \n",
       "3         Hybrid  354.0HP 3.5L V6 Cylinder Engine Gas/Electric H...   \n",
       "4       Gasoline                         2.0L I4 16V GDI DOHC Turbo   \n",
       "\n",
       "        transmission                 ext_col int_col  \\\n",
       "0        6-Speed A/T                   Black   Black   \n",
       "1  8-Speed Automatic         Moonlight Cloud    Gray   \n",
       "2          Automatic                    Blue   Black   \n",
       "3        7-Speed A/T                   Black   Black   \n",
       "4  8-Speed Automatic  Glacier White Metallic   Black   \n",
       "\n",
       "                                 accident clean_title    price  \n",
       "0  At least 1 accident or damage reported         Yes  $10,300  \n",
       "1  At least 1 accident or damage reported         Yes  $38,005  \n",
       "2                           None reported         NaN  $54,598  \n",
       "3                           None reported         Yes  $15,500  \n",
       "4                           None reported         NaN  $34,999  "
      ]
     },
     "execution_count": 6,
     "metadata": {},
     "output_type": "execute_result"
    }
   ],
   "source": [
    "df.info()\n",
    "df.head()"
   ]
  },
  {
   "cell_type": "markdown",
   "metadata": {},
   "source": [
    "### Eliminar la columna 'clean_title' porque no lo vamos a usar."
   ]
  },
  {
   "cell_type": "code",
   "execution_count": 7,
   "metadata": {},
   "outputs": [],
   "source": [
    "df.drop(['clean_title'], axis=1, inplace=True)"
   ]
  },
  {
   "cell_type": "markdown",
   "metadata": {},
   "source": [
    "### Imprimir los elementos y subniveles que tiene cada columna."
   ]
  },
  {
   "cell_type": "code",
   "execution_count": 8,
   "metadata": {},
   "outputs": [
    {
     "name": "stdout",
     "output_type": "stream",
     "text": [
      "Column brand: 57 subniveles\n",
      "Column model: 1898 subniveles\n",
      "Column milage: 2818 subniveles\n",
      "Column fuel_type: 7 subniveles\n",
      "Column engine: 1146 subniveles\n",
      "Column transmission: 62 subniveles\n",
      "Column ext_col: 319 subniveles\n",
      "Column int_col: 156 subniveles\n",
      "Column accident: 2 subniveles\n",
      "Column price: 1569 subniveles\n"
     ]
    }
   ],
   "source": [
    "cols_cat = ['brand','model','milage','fuel_type','engine','transmission','ext_col','int_col','accident','price']\n",
    "\n",
    "for col in cols_cat:\n",
    "    print(f'Column {col}: {df[col].nunique()} subniveles')"
   ]
  },
  {
   "cell_type": "markdown",
   "metadata": {},
   "source": [
    "### Generar estadísticas descriptivas de las columnas numéricas de nuestro dataset."
   ]
  },
  {
   "cell_type": "code",
   "execution_count": 9,
   "metadata": {},
   "outputs": [
    {
     "data": {
      "application/vnd.microsoft.datawrangler.viewer.v0+json": {
       "columns": [
        {
         "name": "index",
         "rawType": "object",
         "type": "string"
        },
        {
         "name": "model_year",
         "rawType": "float64",
         "type": "float"
        }
       ],
       "conversionMethod": "pd.DataFrame",
       "ref": "de4d4805-ea27-4a5e-96e6-1bf54bff1d89",
       "rows": [
        [
         "count",
         "4009.0"
        ],
        [
         "mean",
         "2015.515589922674"
        ],
        [
         "std",
         "6.10481624168727"
        ],
        [
         "min",
         "1974.0"
        ],
        [
         "25%",
         "2012.0"
        ],
        [
         "50%",
         "2017.0"
        ],
        [
         "75%",
         "2020.0"
        ],
        [
         "max",
         "2024.0"
        ]
       ],
       "shape": {
        "columns": 1,
        "rows": 8
       }
      },
      "text/html": [
       "<div>\n",
       "<style scoped>\n",
       "    .dataframe tbody tr th:only-of-type {\n",
       "        vertical-align: middle;\n",
       "    }\n",
       "\n",
       "    .dataframe tbody tr th {\n",
       "        vertical-align: top;\n",
       "    }\n",
       "\n",
       "    .dataframe thead th {\n",
       "        text-align: right;\n",
       "    }\n",
       "</style>\n",
       "<table border=\"1\" class=\"dataframe\">\n",
       "  <thead>\n",
       "    <tr style=\"text-align: right;\">\n",
       "      <th></th>\n",
       "      <th>model_year</th>\n",
       "    </tr>\n",
       "  </thead>\n",
       "  <tbody>\n",
       "    <tr>\n",
       "      <th>count</th>\n",
       "      <td>4009.000000</td>\n",
       "    </tr>\n",
       "    <tr>\n",
       "      <th>mean</th>\n",
       "      <td>2015.515590</td>\n",
       "    </tr>\n",
       "    <tr>\n",
       "      <th>std</th>\n",
       "      <td>6.104816</td>\n",
       "    </tr>\n",
       "    <tr>\n",
       "      <th>min</th>\n",
       "      <td>1974.000000</td>\n",
       "    </tr>\n",
       "    <tr>\n",
       "      <th>25%</th>\n",
       "      <td>2012.000000</td>\n",
       "    </tr>\n",
       "    <tr>\n",
       "      <th>50%</th>\n",
       "      <td>2017.000000</td>\n",
       "    </tr>\n",
       "    <tr>\n",
       "      <th>75%</th>\n",
       "      <td>2020.000000</td>\n",
       "    </tr>\n",
       "    <tr>\n",
       "      <th>max</th>\n",
       "      <td>2024.000000</td>\n",
       "    </tr>\n",
       "  </tbody>\n",
       "</table>\n",
       "</div>"
      ],
      "text/plain": [
       "        model_year\n",
       "count  4009.000000\n",
       "mean   2015.515590\n",
       "std       6.104816\n",
       "min    1974.000000\n",
       "25%    2012.000000\n",
       "50%    2017.000000\n",
       "75%    2020.000000\n",
       "max    2024.000000"
      ]
     },
     "execution_count": 9,
     "metadata": {},
     "output_type": "execute_result"
    }
   ],
   "source": [
    "df.describe()"
   ]
  },
  {
   "cell_type": "markdown",
   "metadata": {},
   "source": [
    "### Mostrar todas las filas y columnas"
   ]
  },
  {
   "cell_type": "code",
   "execution_count": 10,
   "metadata": {},
   "outputs": [
    {
     "name": "stdout",
     "output_type": "stream",
     "text": [
      "         brand                            model  model_year      milage  \\\n",
      "0         Ford  Utility Police Interceptor Base        2013  51,000 mi.   \n",
      "1      Hyundai                     Palisade SEL        2021  34,742 mi.   \n",
      "2        Lexus                    RX 350 RX 350        2022  22,372 mi.   \n",
      "3     INFINITI                 Q50 Hybrid Sport        2015  88,900 mi.   \n",
      "4         Audi        Q3 45 S line Premium Plus        2021   9,835 mi.   \n",
      "...        ...                              ...         ...         ...   \n",
      "4004   Bentley             Continental GT Speed        2023     714 mi.   \n",
      "4005      Audi             S4 3.0T Premium Plus        2022  10,900 mi.   \n",
      "4006   Porsche                           Taycan        2022   2,116 mi.   \n",
      "4007      Ford                     F-150 Raptor        2020  33,000 mi.   \n",
      "4008       BMW                     X3 xDrive30i        2020  43,000 mi.   \n",
      "\n",
      "          fuel_type                                             engine  \\\n",
      "0     E85 Flex Fuel  300.0HP 3.7L V6 Cylinder Engine Flex Fuel Capa...   \n",
      "1          Gasoline                               3.8L V6 24V GDI DOHC   \n",
      "2          Gasoline                                     3.5 Liter DOHC   \n",
      "3            Hybrid  354.0HP 3.5L V6 Cylinder Engine Gas/Electric H...   \n",
      "4          Gasoline                         2.0L I4 16V GDI DOHC Turbo   \n",
      "...             ...                                                ...   \n",
      "4004       Gasoline                   6.0L W12 48V PDI DOHC Twin Turbo   \n",
      "4005       Gasoline      349.0HP 3.0L V6 Cylinder Engine Gasoline Fuel   \n",
      "4006            NaN                                           Electric   \n",
      "4007       Gasoline      450.0HP 3.5L V6 Cylinder Engine Gasoline Fuel   \n",
      "4008       Gasoline       248.0HP 2.0L 4 Cylinder Engine Gasoline Fuel   \n",
      "\n",
      "                           transmission                 ext_col  int_col  \\\n",
      "0                           6-Speed A/T                   Black    Black   \n",
      "1                     8-Speed Automatic         Moonlight Cloud     Gray   \n",
      "2                             Automatic                    Blue    Black   \n",
      "3                           7-Speed A/T                   Black    Black   \n",
      "4                     8-Speed Automatic  Glacier White Metallic    Black   \n",
      "...                                 ...                     ...      ...   \n",
      "4004  8-Speed Automatic with Auto-Shift                   C / C  Hotspur   \n",
      "4005     Transmission w/Dual Shift Mode                   Black    Black   \n",
      "4006                          Automatic                   Black    Black   \n",
      "4007                                A/T                    Blue    Black   \n",
      "4008                                A/T                    Gray    Brown   \n",
      "\n",
      "                                    accident     price  \n",
      "0     At least 1 accident or damage reported   $10,300  \n",
      "1     At least 1 accident or damage reported   $38,005  \n",
      "2                              None reported   $54,598  \n",
      "3                              None reported   $15,500  \n",
      "4                              None reported   $34,999  \n",
      "...                                      ...       ...  \n",
      "4004                           None reported  $349,950  \n",
      "4005                           None reported   $53,900  \n",
      "4006                           None reported   $90,998  \n",
      "4007                           None reported   $62,999  \n",
      "4008  At least 1 accident or damage reported   $40,000  \n",
      "\n",
      "[4009 rows x 11 columns]\n"
     ]
    }
   ],
   "source": [
    "# Mostrar todas las filas y columnas\n",
    "pd.set_option('display.max_columns', None)  # Muestra todas las columnas\n",
    "\n",
    "print(df)"
   ]
  },
  {
   "cell_type": "markdown",
   "metadata": {},
   "source": [
    "### Limpieza de la columna 'milage'\n",
    "\n",
    "Como vemos la columna'milage' está en tipo de dato object y además el formato no nos dejaría hacer un análisis. Por ello, hemos decidido eliminar el string 'mi.', reemplazar el ',' por '.' y cambiarlo a tipo float."
   ]
  },
  {
   "cell_type": "code",
   "execution_count": 11,
   "metadata": {},
   "outputs": [],
   "source": [
    "df['milage'] = df['milage'].str.replace('mi.', '', regex=False).str.replace(',', '.').astype(float)"
   ]
  },
  {
   "cell_type": "markdown",
   "metadata": {},
   "source": [
    "### Limpieza de la columna 'price'\n",
    "\n",
    "Hacemos lo mismo con la columna 'price', eliminando el signo de '$' y cambiando el ',' por '.'"
   ]
  },
  {
   "cell_type": "code",
   "execution_count": 12,
   "metadata": {},
   "outputs": [],
   "source": [
    "df['price'] = df['price'].astype(str).str.replace('$', '', regex=False).str.replace(',', '', regex=False).astype(float)"
   ]
  },
  {
   "cell_type": "markdown",
   "metadata": {},
   "source": [
    "### Limpieza de la columna 'engine'\n",
    "\n",
    "Esta columna ha sido la más problemática, porque nos dimos cuena que había muchas diferentes opciones y variables. Para esto hemos usado expresiones regulares (regex) para buscar recuencias de carácteres y patrones comunes en esta columna y crear una nueva columna para cada uno de ellos."
   ]
  },
  {
   "cell_type": "code",
   "execution_count": 13,
   "metadata": {},
   "outputs": [
    {
     "data": {
      "text/plain": [
       "array(['300.0HP 3.7L V6 Cylinder Engine Flex Fuel Capability',\n",
       "       '3.8L V6 24V GDI DOHC', '3.5 Liter DOHC', ...,\n",
       "       '136.0HP 1.8L 4 Cylinder Engine Gasoline Fuel',\n",
       "       '270.0HP 2.0L 4 Cylinder Engine Gasoline Fuel',\n",
       "       '420.0HP 5.9L 12 Cylinder Engine Gasoline Fuel'],\n",
       "      shape=(1146,), dtype=object)"
      ]
     },
     "execution_count": 13,
     "metadata": {},
     "output_type": "execute_result"
    }
   ],
   "source": [
    "df['engine'].unique()"
   ]
  },
  {
   "cell_type": "markdown",
   "metadata": {},
   "source": [
    "**Creación de la columna 'engine_size' mediante regex a partir de 'engine'** : Hemos tomado el carácter 'L' como filtro, para extraer la capacidad del motor del coche. \n",
    "\n",
    "Por ejemplo lo que antes era:\n",
    "\n",
    "    ['engine] = 3.8L V6 24V GDI DOHC\n",
    "\n",
    "Ahora es:\n",
    "\n",
    "    ['engine_size] 3.8\n"
   ]
  },
  {
   "cell_type": "code",
   "execution_count": 14,
   "metadata": {},
   "outputs": [],
   "source": [
    "df['engine_size'] = df['engine'].str.extract(r'(\\d.\\d+)\\s?L').astype(float)"
   ]
  },
  {
   "cell_type": "markdown",
   "metadata": {},
   "source": [
    "**Creación de la columna 'engine_type' meidante regex a partir de la columna 'engine'**: Hemos tomado como carácteres delimitantes las palabras 'I\\d', 'Electric', 'Hybrid', 'Turbo', 'Diesel'.\n",
    "\n",
    "Por ejemplo lo que antes era:\n",
    "\n",
    "    ['engine'] = 534.0HP Electric Motor Electric Fuel System\n",
    "\n",
    "Ahora es:\n",
    "\n",
    "    [engine_type'] = Electric\n",
    "\n",
    "Y además, las columnas vacías hemos reestablecido como 'Unknown'\n"
   ]
  },
  {
   "cell_type": "code",
   "execution_count": 15,
   "metadata": {},
   "outputs": [],
   "source": [
    "df['engine_type'] = df['engine'].str.extract(r'(V\\d|I\\d|Electric|Hybrid|Turbo|Diesel)', expand=False)\n",
    "df['engine_type'] = df['engine_type'].fillna('Unknown')"
   ]
  },
  {
   "cell_type": "markdown",
   "metadata": {},
   "source": [
    "**Creación de la columna 'engine_hp' mediante regex a partir de la columna 'engine'**: Hemos tomado como carácter delimitador el string 'HP'.\n",
    "\n",
    "Por ejemplo lo que antes era:\n",
    "\n",
    "    ['engine'] = 534.0HP Electric Motor Electric Fuel System\n",
    "\n",
    "Ahora es:\n",
    "\n",
    "    [engine_hp'] = 534.0\n"
   ]
  },
  {
   "cell_type": "code",
   "execution_count": 16,
   "metadata": {},
   "outputs": [],
   "source": [
    "df['engine_hp'] = df['engine'].str.extract(r'(\\d+.?\\d*)\\s?HP')\n",
    "df['engine_hp'] = pd.to_numeric(df['engine_hp'], errors='coerce')"
   ]
  },
  {
   "cell_type": "markdown",
   "metadata": {},
   "source": [
    "### Eliminamos las columnas 'engine', 'ext_col' e 'int_color'"
   ]
  },
  {
   "cell_type": "code",
   "execution_count": 17,
   "metadata": {},
   "outputs": [],
   "source": [
    "df = df.drop(columns=['engine','ext_col','int_col'])"
   ]
  },
  {
   "cell_type": "markdown",
   "metadata": {},
   "source": [
    "### Normalizar la columna 'accident'\n",
    "\n",
    "Hemos convertido en valores booleanos la columna 'accident':\n",
    "\n",
    "    'None reported' => 0\n",
    "    'At least 1 accident or damage reported' => 1\n",
    "    'nan' => 0"
   ]
  },
  {
   "cell_type": "code",
   "execution_count": 18,
   "metadata": {},
   "outputs": [],
   "source": [
    "df['accident'] = df['accident'].map({\n",
    "    'None reported': 0,\n",
    "    'At least 1 accident or damage reported': 1\n",
    "}).where(pd.notna(df['accident'])).astype('Int64')\n",
    "\n",
    "df['accident'] = df['accident'].fillna(0).astype('Int64')"
   ]
  },
  {
   "cell_type": "markdown",
   "metadata": {},
   "source": [
    "### Pasando la columna price a int"
   ]
  },
  {
   "cell_type": "code",
   "execution_count": 20,
   "metadata": {},
   "outputs": [],
   "source": [
    "df[\"price\"] = df[\"price\"].astype(int)"
   ]
  },
  {
   "cell_type": "markdown",
   "metadata": {},
   "source": [
    "### Suplantando los valores vacios de Fuel_type por Electric (corroborado en la otra columna engine_type)"
   ]
  },
  {
   "cell_type": "code",
   "execution_count": 22,
   "metadata": {},
   "outputs": [],
   "source": [
    "df[\"fuel_type\"] = df[\"fuel_type\"].fillna(\"Electric\")"
   ]
  },
  {
   "cell_type": "markdown",
   "metadata": {},
   "source": [
    "### Luego de evaluar decidimos borrar la columna engine_type"
   ]
  },
  {
   "cell_type": "code",
   "execution_count": 24,
   "metadata": {},
   "outputs": [],
   "source": [
    "df.drop(['engine_type'], axis=1, inplace=True)"
   ]
  },
  {
   "cell_type": "markdown",
   "metadata": {},
   "source": [
    "## DATASET LIMPIO Y NORMALIZADO 👇"
   ]
  },
  {
   "cell_type": "code",
   "execution_count": 25,
   "metadata": {},
   "outputs": [
    {
     "name": "stdout",
     "output_type": "stream",
     "text": [
      "<class 'pandas.core.frame.DataFrame'>\n",
      "RangeIndex: 4009 entries, 0 to 4008\n",
      "Data columns (total 10 columns):\n",
      " #   Column        Non-Null Count  Dtype  \n",
      "---  ------        --------------  -----  \n",
      " 0   brand         4009 non-null   object \n",
      " 1   model         4009 non-null   object \n",
      " 2   model_year    4009 non-null   int64  \n",
      " 3   milage        4009 non-null   float64\n",
      " 4   fuel_type     4009 non-null   object \n",
      " 5   transmission  4009 non-null   object \n",
      " 6   accident      4009 non-null   Int64  \n",
      " 7   price         4009 non-null   int64  \n",
      " 8   engine_size   3773 non-null   float64\n",
      " 9   engine_hp     3201 non-null   float64\n",
      "dtypes: Int64(1), float64(3), int64(2), object(4)\n",
      "memory usage: 317.2+ KB\n"
     ]
    },
    {
     "data": {
      "application/vnd.microsoft.datawrangler.viewer.v0+json": {
       "columns": [
        {
         "name": "index",
         "rawType": "int64",
         "type": "integer"
        },
        {
         "name": "brand",
         "rawType": "object",
         "type": "string"
        },
        {
         "name": "model",
         "rawType": "object",
         "type": "string"
        },
        {
         "name": "model_year",
         "rawType": "int64",
         "type": "integer"
        },
        {
         "name": "milage",
         "rawType": "float64",
         "type": "float"
        },
        {
         "name": "fuel_type",
         "rawType": "object",
         "type": "string"
        },
        {
         "name": "transmission",
         "rawType": "object",
         "type": "string"
        },
        {
         "name": "accident",
         "rawType": "Int64",
         "type": "integer"
        },
        {
         "name": "price",
         "rawType": "int64",
         "type": "integer"
        },
        {
         "name": "engine_size",
         "rawType": "float64",
         "type": "float"
        },
        {
         "name": "engine_hp",
         "rawType": "float64",
         "type": "float"
        }
       ],
       "conversionMethod": "pd.DataFrame",
       "ref": "cf6b0e09-7a10-4831-af3f-58fdd23db6a6",
       "rows": [
        [
         "0",
         "Ford",
         "Utility Police Interceptor Base",
         "2013",
         "51.0",
         "E85 Flex Fuel",
         "6-Speed A/T",
         "1",
         "10300",
         "3.7",
         "300.0"
        ],
        [
         "1",
         "Hyundai",
         "Palisade SEL",
         "2021",
         "34.742",
         "Gasoline",
         "8-Speed Automatic",
         "1",
         "38005",
         "3.8",
         null
        ],
        [
         "2",
         "Lexus",
         "RX 350 RX 350",
         "2022",
         "22.372",
         "Gasoline",
         "Automatic",
         "0",
         "54598",
         "3.5",
         null
        ],
        [
         "3",
         "INFINITI",
         "Q50 Hybrid Sport",
         "2015",
         "88.9",
         "Hybrid",
         "7-Speed A/T",
         "0",
         "15500",
         "3.5",
         "354.0"
        ],
        [
         "4",
         "Audi",
         "Q3 45 S line Premium Plus",
         "2021",
         "9.835",
         "Gasoline",
         "8-Speed Automatic",
         "0",
         "34999",
         "2.0",
         null
        ]
       ],
       "shape": {
        "columns": 10,
        "rows": 5
       }
      },
      "text/html": [
       "<div>\n",
       "<style scoped>\n",
       "    .dataframe tbody tr th:only-of-type {\n",
       "        vertical-align: middle;\n",
       "    }\n",
       "\n",
       "    .dataframe tbody tr th {\n",
       "        vertical-align: top;\n",
       "    }\n",
       "\n",
       "    .dataframe thead th {\n",
       "        text-align: right;\n",
       "    }\n",
       "</style>\n",
       "<table border=\"1\" class=\"dataframe\">\n",
       "  <thead>\n",
       "    <tr style=\"text-align: right;\">\n",
       "      <th></th>\n",
       "      <th>brand</th>\n",
       "      <th>model</th>\n",
       "      <th>model_year</th>\n",
       "      <th>milage</th>\n",
       "      <th>fuel_type</th>\n",
       "      <th>transmission</th>\n",
       "      <th>accident</th>\n",
       "      <th>price</th>\n",
       "      <th>engine_size</th>\n",
       "      <th>engine_hp</th>\n",
       "    </tr>\n",
       "  </thead>\n",
       "  <tbody>\n",
       "    <tr>\n",
       "      <th>0</th>\n",
       "      <td>Ford</td>\n",
       "      <td>Utility Police Interceptor Base</td>\n",
       "      <td>2013</td>\n",
       "      <td>51.000</td>\n",
       "      <td>E85 Flex Fuel</td>\n",
       "      <td>6-Speed A/T</td>\n",
       "      <td>1</td>\n",
       "      <td>10300</td>\n",
       "      <td>3.7</td>\n",
       "      <td>300.0</td>\n",
       "    </tr>\n",
       "    <tr>\n",
       "      <th>1</th>\n",
       "      <td>Hyundai</td>\n",
       "      <td>Palisade SEL</td>\n",
       "      <td>2021</td>\n",
       "      <td>34.742</td>\n",
       "      <td>Gasoline</td>\n",
       "      <td>8-Speed Automatic</td>\n",
       "      <td>1</td>\n",
       "      <td>38005</td>\n",
       "      <td>3.8</td>\n",
       "      <td>NaN</td>\n",
       "    </tr>\n",
       "    <tr>\n",
       "      <th>2</th>\n",
       "      <td>Lexus</td>\n",
       "      <td>RX 350 RX 350</td>\n",
       "      <td>2022</td>\n",
       "      <td>22.372</td>\n",
       "      <td>Gasoline</td>\n",
       "      <td>Automatic</td>\n",
       "      <td>0</td>\n",
       "      <td>54598</td>\n",
       "      <td>3.5</td>\n",
       "      <td>NaN</td>\n",
       "    </tr>\n",
       "    <tr>\n",
       "      <th>3</th>\n",
       "      <td>INFINITI</td>\n",
       "      <td>Q50 Hybrid Sport</td>\n",
       "      <td>2015</td>\n",
       "      <td>88.900</td>\n",
       "      <td>Hybrid</td>\n",
       "      <td>7-Speed A/T</td>\n",
       "      <td>0</td>\n",
       "      <td>15500</td>\n",
       "      <td>3.5</td>\n",
       "      <td>354.0</td>\n",
       "    </tr>\n",
       "    <tr>\n",
       "      <th>4</th>\n",
       "      <td>Audi</td>\n",
       "      <td>Q3 45 S line Premium Plus</td>\n",
       "      <td>2021</td>\n",
       "      <td>9.835</td>\n",
       "      <td>Gasoline</td>\n",
       "      <td>8-Speed Automatic</td>\n",
       "      <td>0</td>\n",
       "      <td>34999</td>\n",
       "      <td>2.0</td>\n",
       "      <td>NaN</td>\n",
       "    </tr>\n",
       "  </tbody>\n",
       "</table>\n",
       "</div>"
      ],
      "text/plain": [
       "      brand                            model  model_year  milage  \\\n",
       "0      Ford  Utility Police Interceptor Base        2013  51.000   \n",
       "1   Hyundai                     Palisade SEL        2021  34.742   \n",
       "2     Lexus                    RX 350 RX 350        2022  22.372   \n",
       "3  INFINITI                 Q50 Hybrid Sport        2015  88.900   \n",
       "4      Audi        Q3 45 S line Premium Plus        2021   9.835   \n",
       "\n",
       "       fuel_type       transmission  accident  price  engine_size  engine_hp  \n",
       "0  E85 Flex Fuel        6-Speed A/T         1  10300          3.7      300.0  \n",
       "1       Gasoline  8-Speed Automatic         1  38005          3.8        NaN  \n",
       "2       Gasoline          Automatic         0  54598          3.5        NaN  \n",
       "3         Hybrid        7-Speed A/T         0  15500          3.5      354.0  \n",
       "4       Gasoline  8-Speed Automatic         0  34999          2.0        NaN  "
      ]
     },
     "execution_count": 25,
     "metadata": {},
     "output_type": "execute_result"
    }
   ],
   "source": [
    "new_df = df.copy()\n",
    "new_df.to_csv('data/cleaned_dataset.csv', index=False)\n",
    "\n",
    "new_df.info()\n",
    "new_df.head(5)"
   ]
  },
  {
   "cell_type": "markdown",
   "metadata": {},
   "source": [
    "## ANÁLISIS EXPLORATORIO DE DATOS"
   ]
  }
 ],
 "metadata": {
  "kernelspec": {
   "display_name": ".venv",
   "language": "python",
   "name": "python3"
  },
  "language_info": {
   "codemirror_mode": {
    "name": "ipython",
    "version": 3
   },
   "file_extension": ".py",
   "mimetype": "text/x-python",
   "name": "python",
   "nbconvert_exporter": "python",
   "pygments_lexer": "ipython3",
   "version": "3.13.2"
  }
 },
 "nbformat": 4,
 "nbformat_minor": 2
}
