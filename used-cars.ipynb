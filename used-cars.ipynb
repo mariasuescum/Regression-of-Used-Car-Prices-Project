{
 "cells": [
  {
   "cell_type": "markdown",
   "metadata": {},
   "source": [
    "# PROYECTO V - PROBLEMA DE REGRESIÓN\n",
    "\n",
    "En este proyecto de problema de regresión hemos decidido usar un [Dataset](https://www.kaggle.com/competitions/playground-series-s4e9/overview) de precio de coches usados. El proyecto está enfocado a las personas que quieran vender su coche y quieran tener una idea del precio de venta de antemano. Para poder hacer un estudio del Dataset y crear un Modelo que prediga los precios de venta del coche lo primero que vamos a hacer es una limpieza del Dataset, ver los valores faltantes o outliers y poder tratarlos.\n",
    "\n",
    "Tras la limpieza de los datos los datos para calcular el precio del coche son:\n",
    "- Características: \n",
    "    - brand\n",
    "    - model\n",
    "    - model_year\n",
    "    - milage\n",
    "    - fuel_type\n",
    "    - engine\n",
    "    - transmission\n",
    "    - ext_col\n",
    "    - int_col\n",
    "    - accident\n",
    "    - price\n",
    "- Etiqueta: precio del coche\n",
    "\n",
    "Vamos a ver los pasos que hemos realizado para llegar a tener las columnas listas."
   ]
  },
  {
   "cell_type": "markdown",
   "metadata": {},
   "source": [
    "## PASO 1: REVISAR EL DATASET\n",
    "\n",
    "### Importar el dataset."
   ]
  },
  {
   "cell_type": "code",
   "execution_count": 175,
   "metadata": {},
   "outputs": [
    {
     "name": "stdout",
     "output_type": "stream",
     "text": [
      "Requirement already satisfied: pandas in ./.venv/lib/python3.13/site-packages (2.2.3)\n",
      "Requirement already satisfied: numpy>=1.26.0 in ./.venv/lib/python3.13/site-packages (from pandas) (2.2.4)\n",
      "Requirement already satisfied: python-dateutil>=2.8.2 in ./.venv/lib/python3.13/site-packages (from pandas) (2.9.0.post0)\n",
      "Requirement already satisfied: pytz>=2020.1 in ./.venv/lib/python3.13/site-packages (from pandas) (2025.2)\n",
      "Requirement already satisfied: tzdata>=2022.7 in ./.venv/lib/python3.13/site-packages (from pandas) (2025.2)\n",
      "Requirement already satisfied: six>=1.5 in ./.venv/lib/python3.13/site-packages (from python-dateutil>=2.8.2->pandas) (1.17.0)\n",
      "Requirement already satisfied: matplotlib in ./.venv/lib/python3.13/site-packages (3.10.1)\n",
      "Requirement already satisfied: contourpy>=1.0.1 in ./.venv/lib/python3.13/site-packages (from matplotlib) (1.3.2)\n",
      "Requirement already satisfied: cycler>=0.10 in ./.venv/lib/python3.13/site-packages (from matplotlib) (0.12.1)\n",
      "Requirement already satisfied: fonttools>=4.22.0 in ./.venv/lib/python3.13/site-packages (from matplotlib) (4.57.0)\n",
      "Requirement already satisfied: kiwisolver>=1.3.1 in ./.venv/lib/python3.13/site-packages (from matplotlib) (1.4.8)\n",
      "Requirement already satisfied: numpy>=1.23 in ./.venv/lib/python3.13/site-packages (from matplotlib) (2.2.4)\n",
      "Requirement already satisfied: packaging>=20.0 in ./.venv/lib/python3.13/site-packages (from matplotlib) (24.2)\n",
      "Requirement already satisfied: pillow>=8 in ./.venv/lib/python3.13/site-packages (from matplotlib) (11.2.1)\n",
      "Requirement already satisfied: pyparsing>=2.3.1 in ./.venv/lib/python3.13/site-packages (from matplotlib) (3.2.3)\n",
      "Requirement already satisfied: python-dateutil>=2.7 in ./.venv/lib/python3.13/site-packages (from matplotlib) (2.9.0.post0)\n",
      "Requirement already satisfied: six>=1.5 in ./.venv/lib/python3.13/site-packages (from python-dateutil>=2.7->matplotlib) (1.17.0)\n",
      "Requirement already satisfied: seaborn in ./.venv/lib/python3.13/site-packages (0.13.2)\n",
      "Requirement already satisfied: numpy!=1.24.0,>=1.20 in ./.venv/lib/python3.13/site-packages (from seaborn) (2.2.4)\n",
      "Requirement already satisfied: pandas>=1.2 in ./.venv/lib/python3.13/site-packages (from seaborn) (2.2.3)\n",
      "Requirement already satisfied: matplotlib!=3.6.1,>=3.4 in ./.venv/lib/python3.13/site-packages (from seaborn) (3.10.1)\n",
      "Requirement already satisfied: contourpy>=1.0.1 in ./.venv/lib/python3.13/site-packages (from matplotlib!=3.6.1,>=3.4->seaborn) (1.3.2)\n",
      "Requirement already satisfied: cycler>=0.10 in ./.venv/lib/python3.13/site-packages (from matplotlib!=3.6.1,>=3.4->seaborn) (0.12.1)\n",
      "Requirement already satisfied: fonttools>=4.22.0 in ./.venv/lib/python3.13/site-packages (from matplotlib!=3.6.1,>=3.4->seaborn) (4.57.0)\n",
      "Requirement already satisfied: kiwisolver>=1.3.1 in ./.venv/lib/python3.13/site-packages (from matplotlib!=3.6.1,>=3.4->seaborn) (1.4.8)\n",
      "Requirement already satisfied: packaging>=20.0 in ./.venv/lib/python3.13/site-packages (from matplotlib!=3.6.1,>=3.4->seaborn) (24.2)\n",
      "Requirement already satisfied: pillow>=8 in ./.venv/lib/python3.13/site-packages (from matplotlib!=3.6.1,>=3.4->seaborn) (11.2.1)\n",
      "Requirement already satisfied: pyparsing>=2.3.1 in ./.venv/lib/python3.13/site-packages (from matplotlib!=3.6.1,>=3.4->seaborn) (3.2.3)\n",
      "Requirement already satisfied: python-dateutil>=2.7 in ./.venv/lib/python3.13/site-packages (from matplotlib!=3.6.1,>=3.4->seaborn) (2.9.0.post0)\n",
      "Requirement already satisfied: pytz>=2020.1 in ./.venv/lib/python3.13/site-packages (from pandas>=1.2->seaborn) (2025.2)\n",
      "Requirement already satisfied: tzdata>=2022.7 in ./.venv/lib/python3.13/site-packages (from pandas>=1.2->seaborn) (2025.2)\n",
      "Requirement already satisfied: six>=1.5 in ./.venv/lib/python3.13/site-packages (from python-dateutil>=2.7->matplotlib!=3.6.1,>=3.4->seaborn) (1.17.0)\n",
      "Requirement already satisfied: numpy in ./.venv/lib/python3.13/site-packages (2.2.4)\n",
      "Requirement already satisfied: scikit-learn in ./.venv/lib/python3.13/site-packages (1.6.1)\n",
      "Requirement already satisfied: numpy>=1.19.5 in ./.venv/lib/python3.13/site-packages (from scikit-learn) (2.2.4)\n",
      "Requirement already satisfied: scipy>=1.6.0 in ./.venv/lib/python3.13/site-packages (from scikit-learn) (1.15.2)\n",
      "Requirement already satisfied: joblib>=1.2.0 in ./.venv/lib/python3.13/site-packages (from scikit-learn) (1.4.2)\n",
      "Requirement already satisfied: threadpoolctl>=3.1.0 in ./.venv/lib/python3.13/site-packages (from scikit-learn) (3.6.0)\n"
     ]
    }
   ],
   "source": [
    "!pip install pandas\n",
    "!pip install matplotlib\n",
    "!pip install seaborn\n",
    "!pip install numpy\n",
    "!pip install scikit-learn"
   ]
  },
  {
   "cell_type": "code",
   "execution_count": 218,
   "metadata": {},
   "outputs": [],
   "source": [
    "import pandas as pd\n",
    "import matplotlib.pyplot as plt\n",
    "import seaborn as sns\n",
    "import numpy as np\n",
    "\n",
    "df = pd.read_csv('data/used_cars.csv')"
   ]
  },
  {
   "cell_type": "markdown",
   "metadata": {},
   "source": [
    "### Imprimir cabeceras del dataset y tener una idea clara de los tipos de datos que tenemos."
   ]
  },
  {
   "cell_type": "code",
   "execution_count": 219,
   "metadata": {},
   "outputs": [
    {
     "name": "stdout",
     "output_type": "stream",
     "text": [
      "<class 'pandas.core.frame.DataFrame'>\n",
      "RangeIndex: 4009 entries, 0 to 4008\n",
      "Data columns (total 12 columns):\n",
      " #   Column        Non-Null Count  Dtype \n",
      "---  ------        --------------  ----- \n",
      " 0   brand         4009 non-null   object\n",
      " 1   model         4009 non-null   object\n",
      " 2   model_year    4009 non-null   int64 \n",
      " 3   milage        4009 non-null   object\n",
      " 4   fuel_type     3839 non-null   object\n",
      " 5   engine        4009 non-null   object\n",
      " 6   transmission  4009 non-null   object\n",
      " 7   ext_col       4009 non-null   object\n",
      " 8   int_col       4009 non-null   object\n",
      " 9   accident      3896 non-null   object\n",
      " 10  clean_title   3413 non-null   object\n",
      " 11  price         4009 non-null   object\n",
      "dtypes: int64(1), object(11)\n",
      "memory usage: 376.0+ KB\n"
     ]
    },
    {
     "data": {
      "text/html": [
       "<div>\n",
       "<style scoped>\n",
       "    .dataframe tbody tr th:only-of-type {\n",
       "        vertical-align: middle;\n",
       "    }\n",
       "\n",
       "    .dataframe tbody tr th {\n",
       "        vertical-align: top;\n",
       "    }\n",
       "\n",
       "    .dataframe thead th {\n",
       "        text-align: right;\n",
       "    }\n",
       "</style>\n",
       "<table border=\"1\" class=\"dataframe\">\n",
       "  <thead>\n",
       "    <tr style=\"text-align: right;\">\n",
       "      <th></th>\n",
       "      <th>brand</th>\n",
       "      <th>model</th>\n",
       "      <th>model_year</th>\n",
       "      <th>milage</th>\n",
       "      <th>fuel_type</th>\n",
       "      <th>engine</th>\n",
       "      <th>transmission</th>\n",
       "      <th>ext_col</th>\n",
       "      <th>int_col</th>\n",
       "      <th>accident</th>\n",
       "      <th>clean_title</th>\n",
       "      <th>price</th>\n",
       "    </tr>\n",
       "  </thead>\n",
       "  <tbody>\n",
       "    <tr>\n",
       "      <th>0</th>\n",
       "      <td>Ford</td>\n",
       "      <td>Utility Police Interceptor Base</td>\n",
       "      <td>2013</td>\n",
       "      <td>51,000 mi.</td>\n",
       "      <td>E85 Flex Fuel</td>\n",
       "      <td>300.0HP 3.7L V6 Cylinder Engine Flex Fuel Capa...</td>\n",
       "      <td>6-Speed A/T</td>\n",
       "      <td>Black</td>\n",
       "      <td>Black</td>\n",
       "      <td>At least 1 accident or damage reported</td>\n",
       "      <td>Yes</td>\n",
       "      <td>$10,300</td>\n",
       "    </tr>\n",
       "    <tr>\n",
       "      <th>1</th>\n",
       "      <td>Hyundai</td>\n",
       "      <td>Palisade SEL</td>\n",
       "      <td>2021</td>\n",
       "      <td>34,742 mi.</td>\n",
       "      <td>Gasoline</td>\n",
       "      <td>3.8L V6 24V GDI DOHC</td>\n",
       "      <td>8-Speed Automatic</td>\n",
       "      <td>Moonlight Cloud</td>\n",
       "      <td>Gray</td>\n",
       "      <td>At least 1 accident or damage reported</td>\n",
       "      <td>Yes</td>\n",
       "      <td>$38,005</td>\n",
       "    </tr>\n",
       "    <tr>\n",
       "      <th>2</th>\n",
       "      <td>Lexus</td>\n",
       "      <td>RX 350 RX 350</td>\n",
       "      <td>2022</td>\n",
       "      <td>22,372 mi.</td>\n",
       "      <td>Gasoline</td>\n",
       "      <td>3.5 Liter DOHC</td>\n",
       "      <td>Automatic</td>\n",
       "      <td>Blue</td>\n",
       "      <td>Black</td>\n",
       "      <td>None reported</td>\n",
       "      <td>NaN</td>\n",
       "      <td>$54,598</td>\n",
       "    </tr>\n",
       "    <tr>\n",
       "      <th>3</th>\n",
       "      <td>INFINITI</td>\n",
       "      <td>Q50 Hybrid Sport</td>\n",
       "      <td>2015</td>\n",
       "      <td>88,900 mi.</td>\n",
       "      <td>Hybrid</td>\n",
       "      <td>354.0HP 3.5L V6 Cylinder Engine Gas/Electric H...</td>\n",
       "      <td>7-Speed A/T</td>\n",
       "      <td>Black</td>\n",
       "      <td>Black</td>\n",
       "      <td>None reported</td>\n",
       "      <td>Yes</td>\n",
       "      <td>$15,500</td>\n",
       "    </tr>\n",
       "    <tr>\n",
       "      <th>4</th>\n",
       "      <td>Audi</td>\n",
       "      <td>Q3 45 S line Premium Plus</td>\n",
       "      <td>2021</td>\n",
       "      <td>9,835 mi.</td>\n",
       "      <td>Gasoline</td>\n",
       "      <td>2.0L I4 16V GDI DOHC Turbo</td>\n",
       "      <td>8-Speed Automatic</td>\n",
       "      <td>Glacier White Metallic</td>\n",
       "      <td>Black</td>\n",
       "      <td>None reported</td>\n",
       "      <td>NaN</td>\n",
       "      <td>$34,999</td>\n",
       "    </tr>\n",
       "  </tbody>\n",
       "</table>\n",
       "</div>"
      ],
      "text/plain": [
       "      brand                            model  model_year      milage  \\\n",
       "0      Ford  Utility Police Interceptor Base        2013  51,000 mi.   \n",
       "1   Hyundai                     Palisade SEL        2021  34,742 mi.   \n",
       "2     Lexus                    RX 350 RX 350        2022  22,372 mi.   \n",
       "3  INFINITI                 Q50 Hybrid Sport        2015  88,900 mi.   \n",
       "4      Audi        Q3 45 S line Premium Plus        2021   9,835 mi.   \n",
       "\n",
       "       fuel_type                                             engine  \\\n",
       "0  E85 Flex Fuel  300.0HP 3.7L V6 Cylinder Engine Flex Fuel Capa...   \n",
       "1       Gasoline                               3.8L V6 24V GDI DOHC   \n",
       "2       Gasoline                                     3.5 Liter DOHC   \n",
       "3         Hybrid  354.0HP 3.5L V6 Cylinder Engine Gas/Electric H...   \n",
       "4       Gasoline                         2.0L I4 16V GDI DOHC Turbo   \n",
       "\n",
       "        transmission                 ext_col int_col  \\\n",
       "0        6-Speed A/T                   Black   Black   \n",
       "1  8-Speed Automatic         Moonlight Cloud    Gray   \n",
       "2          Automatic                    Blue   Black   \n",
       "3        7-Speed A/T                   Black   Black   \n",
       "4  8-Speed Automatic  Glacier White Metallic   Black   \n",
       "\n",
       "                                 accident clean_title    price  \n",
       "0  At least 1 accident or damage reported         Yes  $10,300  \n",
       "1  At least 1 accident or damage reported         Yes  $38,005  \n",
       "2                           None reported         NaN  $54,598  \n",
       "3                           None reported         Yes  $15,500  \n",
       "4                           None reported         NaN  $34,999  "
      ]
     },
     "execution_count": 219,
     "metadata": {},
     "output_type": "execute_result"
    }
   ],
   "source": [
    "df.info()\n",
    "df.head()"
   ]
  },
  {
   "cell_type": "markdown",
   "metadata": {},
   "source": [
    "### Eliminar la columna 'clean_title' porque no lo vamos a usar."
   ]
  },
  {
   "cell_type": "code",
   "execution_count": 220,
   "metadata": {},
   "outputs": [],
   "source": [
    "df.drop(['clean_title'], axis=1, inplace=True)"
   ]
  },
  {
   "cell_type": "markdown",
   "metadata": {},
   "source": [
    "### Imprimir los elementos y subniveles que tiene cada columna."
   ]
  },
  {
   "cell_type": "code",
   "execution_count": 221,
   "metadata": {},
   "outputs": [
    {
     "name": "stdout",
     "output_type": "stream",
     "text": [
      "Column brand: 57 subniveles\n",
      "Column model: 1898 subniveles\n",
      "Column milage: 2818 subniveles\n",
      "Column fuel_type: 7 subniveles\n",
      "Column engine: 1146 subniveles\n",
      "Column transmission: 62 subniveles\n",
      "Column ext_col: 319 subniveles\n",
      "Column int_col: 156 subniveles\n",
      "Column accident: 2 subniveles\n",
      "Column price: 1569 subniveles\n"
     ]
    }
   ],
   "source": [
    "cols_cat = ['brand','model','milage','fuel_type','engine','transmission','ext_col','int_col','accident','price']\n",
    "\n",
    "for col in cols_cat:\n",
    "    print(f'Column {col}: {df[col].nunique()} subniveles')"
   ]
  },
  {
   "cell_type": "markdown",
   "metadata": {},
   "source": [
    "### Generar estadísticas descriptivas de las columnas numéricas de nuestro dataset."
   ]
  },
  {
   "cell_type": "code",
   "execution_count": 222,
   "metadata": {},
   "outputs": [
    {
     "data": {
      "text/html": [
       "<div>\n",
       "<style scoped>\n",
       "    .dataframe tbody tr th:only-of-type {\n",
       "        vertical-align: middle;\n",
       "    }\n",
       "\n",
       "    .dataframe tbody tr th {\n",
       "        vertical-align: top;\n",
       "    }\n",
       "\n",
       "    .dataframe thead th {\n",
       "        text-align: right;\n",
       "    }\n",
       "</style>\n",
       "<table border=\"1\" class=\"dataframe\">\n",
       "  <thead>\n",
       "    <tr style=\"text-align: right;\">\n",
       "      <th></th>\n",
       "      <th>model_year</th>\n",
       "    </tr>\n",
       "  </thead>\n",
       "  <tbody>\n",
       "    <tr>\n",
       "      <th>count</th>\n",
       "      <td>4009.000000</td>\n",
       "    </tr>\n",
       "    <tr>\n",
       "      <th>mean</th>\n",
       "      <td>2015.515590</td>\n",
       "    </tr>\n",
       "    <tr>\n",
       "      <th>std</th>\n",
       "      <td>6.104816</td>\n",
       "    </tr>\n",
       "    <tr>\n",
       "      <th>min</th>\n",
       "      <td>1974.000000</td>\n",
       "    </tr>\n",
       "    <tr>\n",
       "      <th>25%</th>\n",
       "      <td>2012.000000</td>\n",
       "    </tr>\n",
       "    <tr>\n",
       "      <th>50%</th>\n",
       "      <td>2017.000000</td>\n",
       "    </tr>\n",
       "    <tr>\n",
       "      <th>75%</th>\n",
       "      <td>2020.000000</td>\n",
       "    </tr>\n",
       "    <tr>\n",
       "      <th>max</th>\n",
       "      <td>2024.000000</td>\n",
       "    </tr>\n",
       "  </tbody>\n",
       "</table>\n",
       "</div>"
      ],
      "text/plain": [
       "        model_year\n",
       "count  4009.000000\n",
       "mean   2015.515590\n",
       "std       6.104816\n",
       "min    1974.000000\n",
       "25%    2012.000000\n",
       "50%    2017.000000\n",
       "75%    2020.000000\n",
       "max    2024.000000"
      ]
     },
     "execution_count": 222,
     "metadata": {},
     "output_type": "execute_result"
    }
   ],
   "source": [
    "df.describe()"
   ]
  },
  {
   "cell_type": "markdown",
   "metadata": {},
   "source": [
    "### Mostrar todas las filas y columnas"
   ]
  },
  {
   "cell_type": "code",
   "execution_count": 223,
   "metadata": {},
   "outputs": [
    {
     "name": "stdout",
     "output_type": "stream",
     "text": [
      "         brand                            model  model_year      milage  \\\n",
      "0         Ford  Utility Police Interceptor Base        2013  51,000 mi.   \n",
      "1      Hyundai                     Palisade SEL        2021  34,742 mi.   \n",
      "2        Lexus                    RX 350 RX 350        2022  22,372 mi.   \n",
      "3     INFINITI                 Q50 Hybrid Sport        2015  88,900 mi.   \n",
      "4         Audi        Q3 45 S line Premium Plus        2021   9,835 mi.   \n",
      "...        ...                              ...         ...         ...   \n",
      "4004   Bentley             Continental GT Speed        2023     714 mi.   \n",
      "4005      Audi             S4 3.0T Premium Plus        2022  10,900 mi.   \n",
      "4006   Porsche                           Taycan        2022   2,116 mi.   \n",
      "4007      Ford                     F-150 Raptor        2020  33,000 mi.   \n",
      "4008       BMW                     X3 xDrive30i        2020  43,000 mi.   \n",
      "\n",
      "          fuel_type                                             engine  \\\n",
      "0     E85 Flex Fuel  300.0HP 3.7L V6 Cylinder Engine Flex Fuel Capa...   \n",
      "1          Gasoline                               3.8L V6 24V GDI DOHC   \n",
      "2          Gasoline                                     3.5 Liter DOHC   \n",
      "3            Hybrid  354.0HP 3.5L V6 Cylinder Engine Gas/Electric H...   \n",
      "4          Gasoline                         2.0L I4 16V GDI DOHC Turbo   \n",
      "...             ...                                                ...   \n",
      "4004       Gasoline                   6.0L W12 48V PDI DOHC Twin Turbo   \n",
      "4005       Gasoline      349.0HP 3.0L V6 Cylinder Engine Gasoline Fuel   \n",
      "4006            NaN                                           Electric   \n",
      "4007       Gasoline      450.0HP 3.5L V6 Cylinder Engine Gasoline Fuel   \n",
      "4008       Gasoline       248.0HP 2.0L 4 Cylinder Engine Gasoline Fuel   \n",
      "\n",
      "                           transmission                 ext_col  int_col  \\\n",
      "0                           6-Speed A/T                   Black    Black   \n",
      "1                     8-Speed Automatic         Moonlight Cloud     Gray   \n",
      "2                             Automatic                    Blue    Black   \n",
      "3                           7-Speed A/T                   Black    Black   \n",
      "4                     8-Speed Automatic  Glacier White Metallic    Black   \n",
      "...                                 ...                     ...      ...   \n",
      "4004  8-Speed Automatic with Auto-Shift                   C / C  Hotspur   \n",
      "4005     Transmission w/Dual Shift Mode                   Black    Black   \n",
      "4006                          Automatic                   Black    Black   \n",
      "4007                                A/T                    Blue    Black   \n",
      "4008                                A/T                    Gray    Brown   \n",
      "\n",
      "                                    accident     price  \n",
      "0     At least 1 accident or damage reported   $10,300  \n",
      "1     At least 1 accident or damage reported   $38,005  \n",
      "2                              None reported   $54,598  \n",
      "3                              None reported   $15,500  \n",
      "4                              None reported   $34,999  \n",
      "...                                      ...       ...  \n",
      "4004                           None reported  $349,950  \n",
      "4005                           None reported   $53,900  \n",
      "4006                           None reported   $90,998  \n",
      "4007                           None reported   $62,999  \n",
      "4008  At least 1 accident or damage reported   $40,000  \n",
      "\n",
      "[4009 rows x 11 columns]\n"
     ]
    }
   ],
   "source": [
    "# Mostrar todas las filas y columnas\n",
    "pd.set_option('display.max_columns', None)  # Muestra todas las columnas\n",
    "\n",
    "print(df)"
   ]
  },
  {
   "cell_type": "markdown",
   "metadata": {},
   "source": [
    "### Limpieza de la columna 'milage'\n",
    "\n",
    "Como vemos la columna'milage' está en tipo de dato object y además el formato no nos dejaría hacer un análisis. Por ello, hemos decidido eliminar el string 'mi.', reemplazar el ',' por '.' y cambiarlo a tipo float."
   ]
  },
  {
   "cell_type": "code",
   "execution_count": 224,
   "metadata": {},
   "outputs": [],
   "source": [
    "df['milage'] = df['milage'].str.replace('mi.', '', regex=False).str.replace(',', '.').astype(float)"
   ]
  },
  {
   "cell_type": "markdown",
   "metadata": {},
   "source": [
    "### Limpieza de la columna 'price'\n",
    "\n",
    "Hacemos lo mismo con la columna 'price', eliminando el signo de '$' y cambiando el ',' por '.'"
   ]
  },
  {
   "cell_type": "code",
   "execution_count": 225,
   "metadata": {},
   "outputs": [],
   "source": [
    "df['price'] = df['price'].astype(str).str.replace('$', '', regex=False).str.replace(',', '', regex=False).astype(float)"
   ]
  },
  {
   "cell_type": "markdown",
   "metadata": {},
   "source": [
    "### Limpieza de la columna 'engine'\n",
    "\n",
    "Esta columna ha sido la más problemática, porque nos dimos cuena que había muchas diferentes opciones y variables. Para esto hemos usado expresiones regulares (regex) para buscar recuencias de carácteres y patrones comunes en esta columna y crear una nueva columna para cada uno de ellos."
   ]
  },
  {
   "cell_type": "code",
   "execution_count": 226,
   "metadata": {},
   "outputs": [
    {
     "data": {
      "text/plain": [
       "array(['300.0HP 3.7L V6 Cylinder Engine Flex Fuel Capability',\n",
       "       '3.8L V6 24V GDI DOHC', '3.5 Liter DOHC', ...,\n",
       "       '136.0HP 1.8L 4 Cylinder Engine Gasoline Fuel',\n",
       "       '270.0HP 2.0L 4 Cylinder Engine Gasoline Fuel',\n",
       "       '420.0HP 5.9L 12 Cylinder Engine Gasoline Fuel'],\n",
       "      shape=(1146,), dtype=object)"
      ]
     },
     "execution_count": 226,
     "metadata": {},
     "output_type": "execute_result"
    }
   ],
   "source": [
    "df['engine'].unique()"
   ]
  },
  {
   "cell_type": "markdown",
   "metadata": {},
   "source": [
    "**Creación de la columna 'engine_size' mediante regex a partir de 'engine'** : Hemos tomado el carácter 'L' como filtro, para extraer la capacidad del motor del coche. \n",
    "\n",
    "Por ejemplo lo que antes era:\n",
    "\n",
    "    ['engine] = 3.8L V6 24V GDI DOHC\n",
    "\n",
    "Ahora es:\n",
    "\n",
    "    ['engine_size] 3.8\n"
   ]
  },
  {
   "cell_type": "code",
   "execution_count": 227,
   "metadata": {},
   "outputs": [],
   "source": [
    "df['engine_size'] = df['engine'].str.extract(r'(\\d.\\d+)\\s?L').astype(float)"
   ]
  },
  {
   "cell_type": "markdown",
   "metadata": {},
   "source": [
    "**Creación de la columna 'engine_type' meidante regex a partir de la columna 'engine'**: Hemos tomado como carácteres delimitantes las palabras 'I\\d', 'Electric', 'Hybrid', 'Turbo', 'Diesel'.\n",
    "\n",
    "Por ejemplo lo que antes era:\n",
    "\n",
    "    ['engine'] = 534.0HP Electric Motor Electric Fuel System\n",
    "\n",
    "Ahora es:\n",
    "\n",
    "    [engine_type'] = Electric\n",
    "\n",
    "Y además, las columnas vacías hemos reestablecido como 'Unknown'\n"
   ]
  },
  {
   "cell_type": "code",
   "execution_count": 228,
   "metadata": {},
   "outputs": [],
   "source": [
    "df['engine_type'] = df['engine'].str.extract(r'(V\\d|I\\d|Electric|Hybrid|Turbo|Diesel)', expand=False)\n",
    "df['engine_type'] = df['engine_type'].fillna('Unknown')"
   ]
  },
  {
   "cell_type": "markdown",
   "metadata": {},
   "source": [
    "**Creación de la columna 'engine_hp' mediante regex a partir de la columna 'engine'**: Hemos tomado como carácter delimitador el string 'HP'.\n",
    "\n",
    "Por ejemplo lo que antes era:\n",
    "\n",
    "    ['engine'] = 534.0HP Electric Motor Electric Fuel System\n",
    "\n",
    "Ahora es:\n",
    "\n",
    "    [engine_hp'] = 534.0\n"
   ]
  },
  {
   "cell_type": "code",
   "execution_count": 229,
   "metadata": {},
   "outputs": [],
   "source": [
    "df['engine_hp'] = df['engine'].str.extract(r'(\\d+.?\\d*)\\s?HP')\n",
    "df['engine_hp'] = pd.to_numeric(df['engine_hp'], errors='coerce')"
   ]
  },
  {
   "cell_type": "markdown",
   "metadata": {},
   "source": [
    "### Eliminamos las columnas 'engine', 'ext_col' e 'int_color'"
   ]
  },
  {
   "cell_type": "code",
   "execution_count": 230,
   "metadata": {},
   "outputs": [],
   "source": [
    "df = df.drop(columns=['engine','ext_col','int_col'])"
   ]
  },
  {
   "cell_type": "markdown",
   "metadata": {},
   "source": [
    "### Normalizar la columna 'accident'\n",
    "\n",
    "Hemos convertido en valores booleanos la columna 'accident':\n",
    "\n",
    "    'None reported' => 0\n",
    "    'At least 1 accident or damage reported' => 1\n",
    "    'nan' => 0"
   ]
  },
  {
   "cell_type": "code",
   "execution_count": 231,
   "metadata": {},
   "outputs": [],
   "source": [
    "df['accident'] = df['accident'].map({\n",
    "    'None reported': 0,\n",
    "    'At least 1 accident or damage reported': 1\n",
    "}).where(pd.notna(df['accident'])).astype('Int64')\n",
    "\n",
    "df['accident'] = df['accident'].fillna(0).astype('Int64')"
   ]
  },
  {
   "cell_type": "markdown",
   "metadata": {},
   "source": [
    "### Pasando la columna price a int"
   ]
  },
  {
   "cell_type": "code",
   "execution_count": 232,
   "metadata": {},
   "outputs": [],
   "source": [
    "df[\"price\"] = df[\"price\"].astype(int)"
   ]
  },
  {
   "cell_type": "markdown",
   "metadata": {},
   "source": [
    "### Suplantando los valores vacios de Fuel_type por Electric (corroborado en la otra columna engine_type)"
   ]
  },
  {
   "cell_type": "code",
   "execution_count": 233,
   "metadata": {},
   "outputs": [],
   "source": [
    "df[\"fuel_type\"] = df[\"fuel_type\"].fillna(\"Electric\")"
   ]
  },
  {
   "cell_type": "markdown",
   "metadata": {},
   "source": [
    "### Luego de evaluar decidimos borrar la columna engine_type"
   ]
  },
  {
   "cell_type": "code",
   "execution_count": 234,
   "metadata": {},
   "outputs": [],
   "source": [
    "df.drop(['engine_type'], axis=1, inplace=True)"
   ]
  },
  {
   "cell_type": "markdown",
   "metadata": {},
   "source": [
    "### Craar columnas brand_id y model_id\n",
    "\n",
    "Para que el modelo funcione teniendo en cuenta la marca ('brand') y el modelo ('model') decidimos usar LabelEncoder para pasar de string a int.\n",
    "\n",
    "Desde la columna 'brand' creamos una nueva columna 'brand_id' y desde la columna 'model' creamos una nueva columna 'model_id'. Además guardamos cada columna con su respectivo código en un nuevo archivo csv para tener una referencia."
   ]
  },
  {
   "cell_type": "code",
   "execution_count": 235,
   "metadata": {},
   "outputs": [
    {
     "name": "stdout",
     "output_type": "stream",
     "text": [
      "Brands guardados en data/brand_enumeration.csv ✅\n",
      "Modelos guardado en data/model_enumeration.csv ✅\n"
     ]
    }
   ],
   "source": [
    "from sklearn.preprocessing import LabelEncoder\n",
    "\n",
    "brand_le = LabelEncoder()\n",
    "model_le = LabelEncoder()\n",
    "\n",
    "df[\"brand_id\"] = brand_le.fit_transform(df[\"brand\"])\n",
    "df[\"model_id\"] = model_le.fit_transform(df[\"model\"])\n",
    "\n",
    "# Imprimir las marcas con sus respectivos códigos\n",
    "#for i, brand in enumerate(le.classes_):\n",
    "    #print(f\"{brand} → {i}\")\n",
    "\n",
    "import pandas as pd\n",
    "\n",
    "# crear un archivo csv con las marcas y sus códigos\n",
    "brand_mapping = {brand: i for i, brand in enumerate(brand_le.classes_)}\n",
    "brand_df = pd.DataFrame(list(brand_mapping.items()), columns=[\"brand\", \"code\"])\n",
    "brand_df.to_csv(\"data/brand_enumeration.csv\", index=False)\n",
    "\n",
    "model_mapping = {model: i for i, model in enumerate(model_le.classes_)}\n",
    "model_df = pd.DataFrame(list(model_mapping.items()), columns=[\"model\", \"code\"])\n",
    "model_df.to_csv(\"data/model_enumeration.csv\", index=False)\n",
    "\n",
    "\n",
    "print(\"Brands guardados en data/brand_enumeration.csv ✅\")\n",
    "print(\"Modelos guardado en data/model_enumeration.csv ✅\")\n"
   ]
  },
  {
   "cell_type": "markdown",
   "metadata": {},
   "source": [
    "### Reemplazar los valores '-' y 'not supported' de la columna 'fuel_type' por 'Electric'\n",
    "\n",
    "Hemos visto que hay 45 filas que contienen '-' y 2 filas que contienen 'not supported' en la columna 'fuel_type' y damos por hecho que si pone eso es que no es ni Gasolina ni Diesel, y decidimos reemplazarlos por 'Electric'.\n"
   ]
  },
  {
   "cell_type": "code",
   "execution_count": 236,
   "metadata": {},
   "outputs": [
    {
     "data": {
      "text/plain": [
       "array(['E85 Flex Fuel', 'Gasoline', 'Hybrid', 'Electric', 'Diesel',\n",
       "       'Plug-In Hybrid', '–', 'not supported'], dtype=object)"
      ]
     },
     "execution_count": 236,
     "metadata": {},
     "output_type": "execute_result"
    }
   ],
   "source": [
    "# Ver los valores únicos de la columna 'fuel_type'\n",
    "df['fuel_type'].unique()"
   ]
  },
  {
   "cell_type": "code",
   "execution_count": 237,
   "metadata": {},
   "outputs": [
    {
     "data": {
      "text/plain": [
       "np.int64(45)"
      ]
     },
     "execution_count": 237,
     "metadata": {},
     "output_type": "execute_result"
    }
   ],
   "source": [
    "# contar las filas que tienen el valor '–' en la columna 'fuel_type'\n",
    "df['fuel_type'].isin(['–']).sum()"
   ]
  },
  {
   "cell_type": "code",
   "execution_count": 238,
   "metadata": {},
   "outputs": [
    {
     "data": {
      "text/plain": [
       "np.int64(2)"
      ]
     },
     "execution_count": 238,
     "metadata": {},
     "output_type": "execute_result"
    }
   ],
   "source": [
    "# contar las filas que contienen 'not supported' en la columna 'fuel_type'\n",
    "df['fuel_type'].isin(['not supported']).sum()"
   ]
  },
  {
   "cell_type": "code",
   "execution_count": 239,
   "metadata": {},
   "outputs": [],
   "source": [
    "# Reemplazar los valores '-' y 'not supported' por 'Electric' en la columna 'fuel_type'\n",
    "df['fuel_type'] = df['fuel_type'].replace('–', 'Electric')\n",
    "df['fuel_type'] = df['fuel_type'].replace('not supported', 'Electric')"
   ]
  },
  {
   "cell_type": "code",
   "execution_count": 240,
   "metadata": {},
   "outputs": [
    {
     "data": {
      "text/plain": [
       "array(['E85 Flex Fuel', 'Gasoline', 'Hybrid', 'Electric', 'Diesel',\n",
       "       'Plug-In Hybrid'], dtype=object)"
      ]
     },
     "execution_count": 240,
     "metadata": {},
     "output_type": "execute_result"
    }
   ],
   "source": [
    "# Mostrar los valores únicos para ver si los cambios se realizaron correctamente\n",
    "df['fuel_type'].unique()"
   ]
  },
  {
   "cell_type": "markdown",
   "metadata": {},
   "source": [
    "### Crear nueva columna 'fuel_type_id' a partir de 'fuel_type' pasado a números para poder usarlos en el modelo"
   ]
  },
  {
   "cell_type": "code",
   "execution_count": 241,
   "metadata": {},
   "outputs": [
    {
     "name": "stdout",
     "output_type": "stream",
     "text": [
      "Fuel_type guardado en data/fuel_type_enumeration.csv ✅\n"
     ]
    }
   ],
   "source": [
    "from sklearn.preprocessing import LabelEncoder\n",
    "\n",
    "# creamos el encoder\n",
    "le_fuel = LabelEncoder()\n",
    "\n",
    "# transformamos la columna fuel_type a int\n",
    "df['fuel_type_id'] = le_fuel.fit_transform(df['fuel_type'])\n",
    "\n",
    "fuel_mapping = {fuel: i for i, fuel in enumerate(le_fuel.classes_)}\n",
    "fuel_df = pd.DataFrame(list(fuel_mapping.items()), columns=[\"fuel_type\", \"code\"])\n",
    "fuel_df.to_csv(\"data/fuel_type_enumeration.csv\", index=False)\n",
    "\n",
    "print(\"Fuel_type guardado en data/fuel_type_enumeration.csv ✅\")"
   ]
  },
  {
   "cell_type": "code",
   "execution_count": 242,
   "metadata": {},
   "outputs": [
    {
     "data": {
      "text/plain": [
       "array([1, 3, 4, 2, 0, 5])"
      ]
     },
     "execution_count": 242,
     "metadata": {},
     "output_type": "execute_result"
    }
   ],
   "source": [
    "df['fuel_type_id'].unique()"
   ]
  },
  {
   "cell_type": "code",
   "execution_count": 243,
   "metadata": {},
   "outputs": [
    {
     "data": {
      "text/html": [
       "<div>\n",
       "<style scoped>\n",
       "    .dataframe tbody tr th:only-of-type {\n",
       "        vertical-align: middle;\n",
       "    }\n",
       "\n",
       "    .dataframe tbody tr th {\n",
       "        vertical-align: top;\n",
       "    }\n",
       "\n",
       "    .dataframe thead th {\n",
       "        text-align: right;\n",
       "    }\n",
       "</style>\n",
       "<table border=\"1\" class=\"dataframe\">\n",
       "  <thead>\n",
       "    <tr style=\"text-align: right;\">\n",
       "      <th></th>\n",
       "      <th>brand</th>\n",
       "      <th>model</th>\n",
       "      <th>model_year</th>\n",
       "      <th>milage</th>\n",
       "      <th>fuel_type</th>\n",
       "      <th>transmission</th>\n",
       "      <th>accident</th>\n",
       "      <th>price</th>\n",
       "      <th>engine_size</th>\n",
       "      <th>engine_hp</th>\n",
       "      <th>brand_id</th>\n",
       "      <th>model_id</th>\n",
       "      <th>fuel_type_id</th>\n",
       "    </tr>\n",
       "  </thead>\n",
       "  <tbody>\n",
       "    <tr>\n",
       "      <th>0</th>\n",
       "      <td>Ford</td>\n",
       "      <td>Utility Police Interceptor Base</td>\n",
       "      <td>2013</td>\n",
       "      <td>51.000</td>\n",
       "      <td>E85 Flex Fuel</td>\n",
       "      <td>6-Speed A/T</td>\n",
       "      <td>1</td>\n",
       "      <td>10300</td>\n",
       "      <td>3.7</td>\n",
       "      <td>300.0</td>\n",
       "      <td>14</td>\n",
       "      <td>1743</td>\n",
       "      <td>1</td>\n",
       "    </tr>\n",
       "    <tr>\n",
       "      <th>1</th>\n",
       "      <td>Hyundai</td>\n",
       "      <td>Palisade SEL</td>\n",
       "      <td>2021</td>\n",
       "      <td>34.742</td>\n",
       "      <td>Gasoline</td>\n",
       "      <td>8-Speed Automatic</td>\n",
       "      <td>1</td>\n",
       "      <td>38005</td>\n",
       "      <td>3.8</td>\n",
       "      <td>NaN</td>\n",
       "      <td>19</td>\n",
       "      <td>1182</td>\n",
       "      <td>3</td>\n",
       "    </tr>\n",
       "    <tr>\n",
       "      <th>2</th>\n",
       "      <td>Lexus</td>\n",
       "      <td>RX 350 RX 350</td>\n",
       "      <td>2022</td>\n",
       "      <td>22.372</td>\n",
       "      <td>Gasoline</td>\n",
       "      <td>Automatic</td>\n",
       "      <td>0</td>\n",
       "      <td>54598</td>\n",
       "      <td>3.5</td>\n",
       "      <td>NaN</td>\n",
       "      <td>27</td>\n",
       "      <td>1325</td>\n",
       "      <td>3</td>\n",
       "    </tr>\n",
       "    <tr>\n",
       "      <th>3</th>\n",
       "      <td>INFINITI</td>\n",
       "      <td>Q50 Hybrid Sport</td>\n",
       "      <td>2015</td>\n",
       "      <td>88.900</td>\n",
       "      <td>Hybrid</td>\n",
       "      <td>7-Speed A/T</td>\n",
       "      <td>0</td>\n",
       "      <td>15500</td>\n",
       "      <td>3.5</td>\n",
       "      <td>354.0</td>\n",
       "      <td>20</td>\n",
       "      <td>1242</td>\n",
       "      <td>4</td>\n",
       "    </tr>\n",
       "    <tr>\n",
       "      <th>4</th>\n",
       "      <td>Audi</td>\n",
       "      <td>Q3 45 S line Premium Plus</td>\n",
       "      <td>2021</td>\n",
       "      <td>9.835</td>\n",
       "      <td>Gasoline</td>\n",
       "      <td>8-Speed Automatic</td>\n",
       "      <td>0</td>\n",
       "      <td>34999</td>\n",
       "      <td>2.0</td>\n",
       "      <td>NaN</td>\n",
       "      <td>3</td>\n",
       "      <td>1225</td>\n",
       "      <td>3</td>\n",
       "    </tr>\n",
       "  </tbody>\n",
       "</table>\n",
       "</div>"
      ],
      "text/plain": [
       "      brand                            model  model_year  milage  \\\n",
       "0      Ford  Utility Police Interceptor Base        2013  51.000   \n",
       "1   Hyundai                     Palisade SEL        2021  34.742   \n",
       "2     Lexus                    RX 350 RX 350        2022  22.372   \n",
       "3  INFINITI                 Q50 Hybrid Sport        2015  88.900   \n",
       "4      Audi        Q3 45 S line Premium Plus        2021   9.835   \n",
       "\n",
       "       fuel_type       transmission  accident  price  engine_size  engine_hp  \\\n",
       "0  E85 Flex Fuel        6-Speed A/T         1  10300          3.7      300.0   \n",
       "1       Gasoline  8-Speed Automatic         1  38005          3.8        NaN   \n",
       "2       Gasoline          Automatic         0  54598          3.5        NaN   \n",
       "3         Hybrid        7-Speed A/T         0  15500          3.5      354.0   \n",
       "4       Gasoline  8-Speed Automatic         0  34999          2.0        NaN   \n",
       "\n",
       "   brand_id  model_id  fuel_type_id  \n",
       "0        14      1743             1  \n",
       "1        19      1182             3  \n",
       "2        27      1325             3  \n",
       "3        20      1242             4  \n",
       "4         3      1225             3  "
      ]
     },
     "execution_count": 243,
     "metadata": {},
     "output_type": "execute_result"
    }
   ],
   "source": [
    "df.head(5)"
   ]
  },
  {
   "cell_type": "markdown",
   "metadata": {},
   "source": [
    "### Limpieza en la columna 'transmission'"
   ]
  },
  {
   "cell_type": "code",
   "execution_count": 244,
   "metadata": {},
   "outputs": [
    {
     "data": {
      "text/plain": [
       "transmission\n",
       "A/T                                              1037\n",
       "8-Speed A/T                                       406\n",
       "Transmission w/Dual Shift Mode                    398\n",
       "6-Speed A/T                                       362\n",
       "6-Speed M/T                                       248\n",
       "                                                 ... \n",
       "Automatic, 8-Spd PDK Dual-Clutch                    1\n",
       "Auto, 6-Spd w/CmdShft                               1\n",
       "Automatic, 8-Spd Sport w/Sport & Manual Modes       1\n",
       "CVT-F                                               1\n",
       "8-Speed Manual                                      1\n",
       "Name: count, Length: 62, dtype: int64"
      ]
     },
     "execution_count": 244,
     "metadata": {},
     "output_type": "execute_result"
    }
   ],
   "source": [
    "# Ver valores únicos y sus conteos de la columna 'transmission'\n",
    "df['transmission'].value_counts()"
   ]
  },
  {
   "cell_type": "code",
   "execution_count": 245,
   "metadata": {},
   "outputs": [
    {
     "data": {
      "text/plain": [
       "62"
      ]
     },
     "execution_count": 245,
     "metadata": {},
     "output_type": "execute_result"
    }
   ],
   "source": [
    "# contar los valores únicos de 'transmission'\n",
    "df['transmission'].nunique()"
   ]
  },
  {
   "cell_type": "markdown",
   "metadata": {},
   "source": [
    "Hemos visto que hay 3 modelos de la marca 'Acura' que tienen '2' en la columna 'transmission' y tras indgar en internet y con ayuda de ChatGPT, hemos llegado a la conclusion de que dichas marcas, con ese modelo, ese tipo de combustible y de dichos años, tienen el tipo de transmisón '10-Speed A/T', por lo que procedemos a reemplazarlos."
   ]
  },
  {
   "cell_type": "code",
   "execution_count": 246,
   "metadata": {},
   "outputs": [
    {
     "data": {
      "text/html": [
       "<div>\n",
       "<style scoped>\n",
       "    .dataframe tbody tr th:only-of-type {\n",
       "        vertical-align: middle;\n",
       "    }\n",
       "\n",
       "    .dataframe tbody tr th {\n",
       "        vertical-align: top;\n",
       "    }\n",
       "\n",
       "    .dataframe thead th {\n",
       "        text-align: right;\n",
       "    }\n",
       "</style>\n",
       "<table border=\"1\" class=\"dataframe\">\n",
       "  <thead>\n",
       "    <tr style=\"text-align: right;\">\n",
       "      <th></th>\n",
       "      <th>brand</th>\n",
       "      <th>model</th>\n",
       "      <th>model_year</th>\n",
       "      <th>milage</th>\n",
       "      <th>fuel_type</th>\n",
       "      <th>transmission</th>\n",
       "      <th>accident</th>\n",
       "      <th>price</th>\n",
       "      <th>engine_size</th>\n",
       "      <th>engine_hp</th>\n",
       "      <th>brand_id</th>\n",
       "      <th>model_id</th>\n",
       "      <th>fuel_type_id</th>\n",
       "    </tr>\n",
       "  </thead>\n",
       "  <tbody>\n",
       "    <tr>\n",
       "      <th>269</th>\n",
       "      <td>Acura</td>\n",
       "      <td>TLX w/A-Spec Package</td>\n",
       "      <td>2022</td>\n",
       "      <td>14.896</td>\n",
       "      <td>Gasoline</td>\n",
       "      <td>2</td>\n",
       "      <td>0</td>\n",
       "      <td>39998</td>\n",
       "      <td>2.0</td>\n",
       "      <td>NaN</td>\n",
       "      <td>0</td>\n",
       "      <td>1648</td>\n",
       "      <td>3</td>\n",
       "    </tr>\n",
       "    <tr>\n",
       "      <th>516</th>\n",
       "      <td>Acura</td>\n",
       "      <td>MDX w/Technology Package</td>\n",
       "      <td>2022</td>\n",
       "      <td>30.177</td>\n",
       "      <td>Gasoline</td>\n",
       "      <td>2</td>\n",
       "      <td>0</td>\n",
       "      <td>46598</td>\n",
       "      <td>3.5</td>\n",
       "      <td>NaN</td>\n",
       "      <td>0</td>\n",
       "      <td>1005</td>\n",
       "      <td>3</td>\n",
       "    </tr>\n",
       "    <tr>\n",
       "      <th>2381</th>\n",
       "      <td>Acura</td>\n",
       "      <td>RDX PMC Edition</td>\n",
       "      <td>2021</td>\n",
       "      <td>44.457</td>\n",
       "      <td>Gasoline</td>\n",
       "      <td>2</td>\n",
       "      <td>0</td>\n",
       "      <td>40598</td>\n",
       "      <td>2.0</td>\n",
       "      <td>NaN</td>\n",
       "      <td>0</td>\n",
       "      <td>1298</td>\n",
       "      <td>3</td>\n",
       "    </tr>\n",
       "  </tbody>\n",
       "</table>\n",
       "</div>"
      ],
      "text/plain": [
       "      brand                     model  model_year  milage fuel_type  \\\n",
       "269   Acura      TLX w/A-Spec Package        2022  14.896  Gasoline   \n",
       "516   Acura  MDX w/Technology Package        2022  30.177  Gasoline   \n",
       "2381  Acura           RDX PMC Edition        2021  44.457  Gasoline   \n",
       "\n",
       "     transmission  accident  price  engine_size  engine_hp  brand_id  \\\n",
       "269             2         0  39998          2.0        NaN         0   \n",
       "516             2         0  46598          3.5        NaN         0   \n",
       "2381            2         0  40598          2.0        NaN         0   \n",
       "\n",
       "      model_id  fuel_type_id  \n",
       "269       1648             3  \n",
       "516       1005             3  \n",
       "2381      1298             3  "
      ]
     },
     "execution_count": 246,
     "metadata": {},
     "output_type": "execute_result"
    }
   ],
   "source": [
    "# imprimimos las filas que tienen el valor '2' en 'transmission'\n",
    "df[df['transmission'] == '2']"
   ]
  },
  {
   "cell_type": "code",
   "execution_count": 247,
   "metadata": {},
   "outputs": [
    {
     "data": {
      "text/html": [
       "<div>\n",
       "<style scoped>\n",
       "    .dataframe tbody tr th:only-of-type {\n",
       "        vertical-align: middle;\n",
       "    }\n",
       "\n",
       "    .dataframe tbody tr th {\n",
       "        vertical-align: top;\n",
       "    }\n",
       "\n",
       "    .dataframe thead th {\n",
       "        text-align: right;\n",
       "    }\n",
       "</style>\n",
       "<table border=\"1\" class=\"dataframe\">\n",
       "  <thead>\n",
       "    <tr style=\"text-align: right;\">\n",
       "      <th></th>\n",
       "      <th>brand</th>\n",
       "      <th>model</th>\n",
       "      <th>model_year</th>\n",
       "      <th>milage</th>\n",
       "      <th>fuel_type</th>\n",
       "      <th>transmission</th>\n",
       "      <th>accident</th>\n",
       "      <th>price</th>\n",
       "      <th>engine_size</th>\n",
       "      <th>engine_hp</th>\n",
       "      <th>brand_id</th>\n",
       "      <th>model_id</th>\n",
       "      <th>fuel_type_id</th>\n",
       "    </tr>\n",
       "  </thead>\n",
       "  <tbody>\n",
       "  </tbody>\n",
       "</table>\n",
       "</div>"
      ],
      "text/plain": [
       "Empty DataFrame\n",
       "Columns: [brand, model, model_year, milage, fuel_type, transmission, accident, price, engine_size, engine_hp, brand_id, model_id, fuel_type_id]\n",
       "Index: []"
      ]
     },
     "execution_count": 247,
     "metadata": {},
     "output_type": "execute_result"
    }
   ],
   "source": [
    "# despues de indagar, se observa que el valor '2' corresponde a '10-Speed A/T' y los reemplazamos para que no haya confusiones\n",
    "df.loc[df['transmission'] == '2', 'transmission'] = '10-Speed A/T'\n",
    "\n",
    "# comprobamos que el cambio se realizó correctamente\n",
    "df[df['transmission'] == '2']"
   ]
  },
  {
   "cell_type": "code",
   "execution_count": 248,
   "metadata": {},
   "outputs": [
    {
     "data": {
      "text/plain": [
       "np.int64(4)"
      ]
     },
     "execution_count": 248,
     "metadata": {},
     "output_type": "execute_result"
    }
   ],
   "source": [
    "df['transmission'].isin(['–']).sum()"
   ]
  },
  {
   "cell_type": "markdown",
   "metadata": {},
   "source": [
    "También hemos encontrado 4 filas que contienen '-' en la columna 'transmission' pero aún indagando no hemos encontrado una respuesta clara de qué tipo de transmisión tienen estos 4 vehículos, por lo que lo dejamos así para su posterior estudio."
   ]
  },
  {
   "cell_type": "markdown",
   "metadata": {},
   "source": [
    "### Expresión regular para reemplazar los valores duplicados en 'transmission'\n"
   ]
  },
  {
   "cell_type": "code",
   "execution_count": 249,
   "metadata": {},
   "outputs": [
    {
     "data": {
      "text/plain": [
       "transmission\n",
       "A/T                                                                 1037\n",
       "8-Speed A/T                                                          406\n",
       "Transmission w/Dual Shift Mode                                       398\n",
       "6-Speed A/T                                                          362\n",
       "6-Speed M/T                                                          248\n",
       "                                                                    ... \n",
       "Automatic, 8-Spd M STEPTRONIC w/Drivelogic, Sport & Manual Modes       1\n",
       "Automatic, 8-Spd PDK Dual-Clutch                                       1\n",
       "8-SPEED AT                                                             1\n",
       "Auto, 6-Spd w/CmdShft                                                  1\n",
       "8-Speed Manual                                                         1\n",
       "Name: count, Length: 61, dtype: int64"
      ]
     },
     "execution_count": 249,
     "metadata": {},
     "output_type": "execute_result"
    }
   ],
   "source": [
    "df['transmission'].value_counts()"
   ]
  },
  {
   "cell_type": "markdown",
   "metadata": {},
   "source": [
    "Hay muchos valores duplicados como:\n",
    "\n",
    "    '1-Speed Automatic' y '1-Speed A/T',\n",
    "\n",
    "    '6-Speed Automatic' y '6-Speed A/T',\n",
    "    \n",
    "    Así hasta '10-Speed Automatic'\n",
    "\n",
    "Estos pares son el mismo tipo de transmisión, por lo que decidimos reemplazar los 'n-Speed Automatic' por 'n-Speed A/T' para que haya menos uniques."
   ]
  },
  {
   "cell_type": "code",
   "execution_count": 250,
   "metadata": {},
   "outputs": [],
   "source": [
    "import re\n",
    "\n",
    "# reemplazamos el patrón \"n-Speed Automatic\" por \"n-Speed A/T\"\n",
    "df['transmission'] = df['transmission'].str.replace(r'(\\d+)-Speed Automatic', r'\\1-Speed A/T', regex=True)"
   ]
  },
  {
   "cell_type": "markdown",
   "metadata": {},
   "source": [
    "Tambien reemplazamos otros valores que vemos duplicados:"
   ]
  },
  {
   "cell_type": "code",
   "execution_count": 251,
   "metadata": {},
   "outputs": [],
   "source": [
    "# reemplazar 'Automatic' por 'A/T'\n",
    "df['transmission'] = df['transmission'].str.replace('Automatic', 'A/T', regex=False)\n",
    "df['transmission'] = df['transmission'].str.replace('A/T, 8-Spd', '8-Speed A/T', regex=False)\n",
    "df['transmission'] = df['transmission'].str.replace('8-SPEED A/T', '8-Speed A/T', regex=False)\n",
    "df['transmission'] = df['transmission'].str.replace('6-Speed Manual', '6-Speed M/T', regex=False)\n",
    "df['transmission'] = df['transmission'].str.replace('6 Speed Mt', '6-Speed M/T', regex=False)\n",
    "df['transmission'] = df['transmission'].str.replace('7-Speed Manual', '7-Speed M/T', regex=False)\n",
    "df['transmission'] = df['transmission'].str.replace('M/T', 'Manual', regex=False)\n",
    "df['transmission'] = df['transmission'].str.replace('Manual, 6-Spd', '6-Speed M/T', regex=False)\n",
    "df['transmission'] = df['transmission'].str.replace('A/T, 10-Spd', '10-Speed A/T', regex=False)"
   ]
  },
  {
   "cell_type": "code",
   "execution_count": 252,
   "metadata": {},
   "outputs": [
    {
     "data": {
      "text/plain": [
       "transmission\n",
       "A/T                                                            1274\n",
       "8-Speed A/T                                                     587\n",
       "6-Speed A/T                                                     435\n",
       "Transmission w/Dual Shift Mode                                  398\n",
       "6-Speed Manual                                                  257\n",
       "7-Speed A/T                                                     216\n",
       "10-Speed A/T                                                    179\n",
       "9-Speed A/T                                                     121\n",
       "5-Speed A/T                                                      95\n",
       "1-Speed A/T                                                      78\n",
       "4-Speed A/T                                                      76\n",
       "CVT Transmission                                                 62\n",
       "5-Speed Manual                                                   59\n",
       "Manual                                                           42\n",
       "A/T CVT                                                          37\n",
       "7-Speed A/T with Auto-Shift                                      24\n",
       "7-Speed Manual                                                   12\n",
       "8-Speed A/T with Auto-Shift                                       9\n",
       "Transmission Overdrive Switch                                     7\n",
       "6-Speed A/T with Auto-Shift                                       5\n",
       "2-Speed A/T                                                       4\n",
       "–                                                                 4\n",
       "Variable                                                          4\n",
       "A/T, 9-Spd 9G-Tronic                                              2\n",
       "6-Speed M/T                                                       2\n",
       "F                                                                 2\n",
       "Auto, 6-Spd w/CmdShft                                             1\n",
       "CVT-F                                                             1\n",
       "SCHEDULED FOR OR IN PRODUCTION                                    1\n",
       "9-Speed A/T with Auto-Shift                                       1\n",
       "7-Speed DCT A/T                                                   1\n",
       "10-Speed A/T with Overdrive                                       1\n",
       "6 Speed At/Mt                                                     1\n",
       "6-Speed Electronically Controlled A/T with O                      1\n",
       "8-SPEED AT                                                        1\n",
       "A/T, 7-Spd S tronic Dual-Clutch                                   1\n",
       "7-Speed                                                           1\n",
       "8-Speed A/T Sport w/Sport & Manual Modes                          1\n",
       "Single-Speed Fixed Gear                                           1\n",
       "6-Speed                                                           1\n",
       "8-Speed A/T Dual-Clutch                                           1\n",
       "8-Speed A/T M STEPTRONIC w/Drivelogic, Sport & Manual Modes       1\n",
       "8-Speed A/T PDK Dual-Clutch                                       1\n",
       "8-Speed Manual                                                    1\n",
       "Name: count, dtype: int64"
      ]
     },
     "execution_count": 252,
     "metadata": {},
     "output_type": "execute_result"
    }
   ],
   "source": [
    "# valores finales tras limpieza\n",
    "df['transmission'].value_counts()"
   ]
  },
  {
   "cell_type": "code",
   "execution_count": 253,
   "metadata": {},
   "outputs": [
    {
     "data": {
      "text/plain": [
       "44"
      ]
     },
     "execution_count": 253,
     "metadata": {},
     "output_type": "execute_result"
    }
   ],
   "source": [
    "# contar los valores únicos de 'transmission' después de la limpieza\n",
    "df['transmission'].nunique()"
   ]
  },
  {
   "cell_type": "markdown",
   "metadata": {},
   "source": [
    "### Normalizar los valores de 'transmission' para tener 3 valores únicos\n",
    "\n",
    "0 = Es automático\n",
    "\n",
    "1 = Manual\n",
    "\n",
    "2 = Otros, Dual Shift"
   ]
  },
  {
   "cell_type": "code",
   "execution_count": 254,
   "metadata": {},
   "outputs": [],
   "source": [
    "def normalize_transmission(value):\n",
    "    if pd.isnull(value):\n",
    "        return 2\n",
    "    elif 'A/T' in value or 'CVT' in value:\n",
    "        return 0\n",
    "    elif 'M/T' in value or 'Manual' in value:\n",
    "        return 1\n",
    "    else:\n",
    "        return 2\n",
    "\n",
    "df['transmission_norm'] = df['transmission'].apply(normalize_transmission)\n"
   ]
  },
  {
   "cell_type": "markdown",
   "metadata": {},
   "source": [
    "### Creamos una nueva columna 'transmission_id' a partir de la limpieza de 'transmission' convirtiendo los string a int"
   ]
  },
  {
   "cell_type": "code",
   "execution_count": 255,
   "metadata": {},
   "outputs": [
    {
     "name": "stdout",
     "output_type": "stream",
     "text": [
      "'Transmission_id' guardado en data/transmission_enumeration.csv ✅\n"
     ]
    }
   ],
   "source": [
    "from sklearn.preprocessing import LabelEncoder\n",
    "\n",
    "transnission_le = LabelEncoder()\n",
    "\n",
    "df['transmission_id'] = transnission_le.fit_transform(df['transmission'])\n",
    "\n",
    "transmission_mapping = {transmission: i for i, transmission in enumerate(transnission_le.classes_)}\n",
    "transmission_df = pd.DataFrame(list(transmission_mapping.items()), columns=[\"transmission\", \"code\"])\n",
    "transmission_df.to_csv(\"data/transmission_enumeration.csv\", index=False)\n",
    "\n",
    "print(\"'Transmission_id' guardado en data/transmission_enumeration.csv ✅\")"
   ]
  },
  {
   "cell_type": "code",
   "execution_count": 256,
   "metadata": {},
   "outputs": [
    {
     "data": {
      "text/plain": [
       "61"
      ]
     },
     "execution_count": 256,
     "metadata": {},
     "output_type": "execute_result"
    }
   ],
   "source": [
    "df['engine_size'].nunique()"
   ]
  },
  {
   "cell_type": "markdown",
   "metadata": {},
   "source": [
    "### Rellenar los campos vacíos de 'engine_hp' teniendo en cuenta el 'engine_size'"
   ]
  },
  {
   "cell_type": "code",
   "execution_count": 257,
   "metadata": {},
   "outputs": [],
   "source": [
    "# Calcular la media de engine_hp para cada engine_size\n",
    "hp_means_by_engine_size = df.groupby('engine_size')['engine_hp'].mean().round()\n",
    "\n",
    "# Reemplazar valores faltantes en engine_hp usando engine_size como guía\n",
    "df['engine_hp'] = df.apply(\n",
    "    lambda row: hp_means_by_engine_size[row['engine_size']] \n",
    "    if pd.isna(row['engine_hp']) and not pd.isna(row['engine_size']) \n",
    "    else row['engine_hp'],\n",
    "    axis=1\n",
    ")"
   ]
  },
  {
   "cell_type": "markdown",
   "metadata": {},
   "source": [
    "### Eliminar la columna 'engine_size'\n",
    "\n",
    "Ahora que tenemos la columna 'engine_hp' normalizado y rellenado con los datos correspondientes, decidimos eliminar la columna 'engine_size' por ser irrelevante."
   ]
  },
  {
   "cell_type": "code",
   "execution_count": 258,
   "metadata": {},
   "outputs": [],
   "source": [
    "# eliminamos la columna 'engine_size'\n",
    "df.drop('engine_size', axis=1, inplace=True)"
   ]
  },
  {
   "cell_type": "markdown",
   "metadata": {},
   "source": [
    "## DATASET LIMPIO Y NORMALIZADO 👇"
   ]
  },
  {
   "cell_type": "code",
   "execution_count": 259,
   "metadata": {},
   "outputs": [
    {
     "name": "stdout",
     "output_type": "stream",
     "text": [
      "<class 'pandas.core.frame.DataFrame'>\n",
      "RangeIndex: 4009 entries, 0 to 4008\n",
      "Data columns (total 14 columns):\n",
      " #   Column             Non-Null Count  Dtype  \n",
      "---  ------             --------------  -----  \n",
      " 0   brand              4009 non-null   object \n",
      " 1   model              4009 non-null   object \n",
      " 2   model_year         4009 non-null   int64  \n",
      " 3   milage             4009 non-null   float64\n",
      " 4   fuel_type          4009 non-null   object \n",
      " 5   transmission       4009 non-null   object \n",
      " 6   accident           4009 non-null   Int64  \n",
      " 7   price              4009 non-null   int64  \n",
      " 8   engine_hp          3906 non-null   float64\n",
      " 9   brand_id           4009 non-null   int64  \n",
      " 10  model_id           4009 non-null   int64  \n",
      " 11  fuel_type_id       4009 non-null   int64  \n",
      " 12  transmission_norm  4009 non-null   int64  \n",
      " 13  transmission_id    4009 non-null   int64  \n",
      "dtypes: Int64(1), float64(2), int64(7), object(4)\n",
      "memory usage: 442.5+ KB\n"
     ]
    },
    {
     "data": {
      "text/html": [
       "<div>\n",
       "<style scoped>\n",
       "    .dataframe tbody tr th:only-of-type {\n",
       "        vertical-align: middle;\n",
       "    }\n",
       "\n",
       "    .dataframe tbody tr th {\n",
       "        vertical-align: top;\n",
       "    }\n",
       "\n",
       "    .dataframe thead th {\n",
       "        text-align: right;\n",
       "    }\n",
       "</style>\n",
       "<table border=\"1\" class=\"dataframe\">\n",
       "  <thead>\n",
       "    <tr style=\"text-align: right;\">\n",
       "      <th></th>\n",
       "      <th>brand</th>\n",
       "      <th>model</th>\n",
       "      <th>model_year</th>\n",
       "      <th>milage</th>\n",
       "      <th>fuel_type</th>\n",
       "      <th>transmission</th>\n",
       "      <th>accident</th>\n",
       "      <th>price</th>\n",
       "      <th>engine_hp</th>\n",
       "      <th>brand_id</th>\n",
       "      <th>model_id</th>\n",
       "      <th>fuel_type_id</th>\n",
       "      <th>transmission_norm</th>\n",
       "      <th>transmission_id</th>\n",
       "    </tr>\n",
       "  </thead>\n",
       "  <tbody>\n",
       "    <tr>\n",
       "      <th>0</th>\n",
       "      <td>Ford</td>\n",
       "      <td>Utility Police Interceptor Base</td>\n",
       "      <td>2013</td>\n",
       "      <td>51.000</td>\n",
       "      <td>E85 Flex Fuel</td>\n",
       "      <td>6-Speed A/T</td>\n",
       "      <td>1</td>\n",
       "      <td>10300</td>\n",
       "      <td>300.0</td>\n",
       "      <td>14</td>\n",
       "      <td>1743</td>\n",
       "      <td>1</td>\n",
       "      <td>0</td>\n",
       "      <td>9</td>\n",
       "    </tr>\n",
       "    <tr>\n",
       "      <th>1</th>\n",
       "      <td>Hyundai</td>\n",
       "      <td>Palisade SEL</td>\n",
       "      <td>2021</td>\n",
       "      <td>34.742</td>\n",
       "      <td>Gasoline</td>\n",
       "      <td>8-Speed A/T</td>\n",
       "      <td>1</td>\n",
       "      <td>38005</td>\n",
       "      <td>352.0</td>\n",
       "      <td>19</td>\n",
       "      <td>1182</td>\n",
       "      <td>3</td>\n",
       "      <td>0</td>\n",
       "      <td>20</td>\n",
       "    </tr>\n",
       "    <tr>\n",
       "      <th>2</th>\n",
       "      <td>Lexus</td>\n",
       "      <td>RX 350 RX 350</td>\n",
       "      <td>2022</td>\n",
       "      <td>22.372</td>\n",
       "      <td>Gasoline</td>\n",
       "      <td>A/T</td>\n",
       "      <td>0</td>\n",
       "      <td>54598</td>\n",
       "      <td>309.0</td>\n",
       "      <td>27</td>\n",
       "      <td>1325</td>\n",
       "      <td>3</td>\n",
       "      <td>0</td>\n",
       "      <td>29</td>\n",
       "    </tr>\n",
       "    <tr>\n",
       "      <th>3</th>\n",
       "      <td>INFINITI</td>\n",
       "      <td>Q50 Hybrid Sport</td>\n",
       "      <td>2015</td>\n",
       "      <td>88.900</td>\n",
       "      <td>Hybrid</td>\n",
       "      <td>7-Speed A/T</td>\n",
       "      <td>0</td>\n",
       "      <td>15500</td>\n",
       "      <td>354.0</td>\n",
       "      <td>20</td>\n",
       "      <td>1242</td>\n",
       "      <td>4</td>\n",
       "      <td>0</td>\n",
       "      <td>15</td>\n",
       "    </tr>\n",
       "    <tr>\n",
       "      <th>4</th>\n",
       "      <td>Audi</td>\n",
       "      <td>Q3 45 S line Premium Plus</td>\n",
       "      <td>2021</td>\n",
       "      <td>9.835</td>\n",
       "      <td>Gasoline</td>\n",
       "      <td>8-Speed A/T</td>\n",
       "      <td>0</td>\n",
       "      <td>34999</td>\n",
       "      <td>232.0</td>\n",
       "      <td>3</td>\n",
       "      <td>1225</td>\n",
       "      <td>3</td>\n",
       "      <td>0</td>\n",
       "      <td>20</td>\n",
       "    </tr>\n",
       "  </tbody>\n",
       "</table>\n",
       "</div>"
      ],
      "text/plain": [
       "      brand                            model  model_year  milage  \\\n",
       "0      Ford  Utility Police Interceptor Base        2013  51.000   \n",
       "1   Hyundai                     Palisade SEL        2021  34.742   \n",
       "2     Lexus                    RX 350 RX 350        2022  22.372   \n",
       "3  INFINITI                 Q50 Hybrid Sport        2015  88.900   \n",
       "4      Audi        Q3 45 S line Premium Plus        2021   9.835   \n",
       "\n",
       "       fuel_type transmission  accident  price  engine_hp  brand_id  model_id  \\\n",
       "0  E85 Flex Fuel  6-Speed A/T         1  10300      300.0        14      1743   \n",
       "1       Gasoline  8-Speed A/T         1  38005      352.0        19      1182   \n",
       "2       Gasoline          A/T         0  54598      309.0        27      1325   \n",
       "3         Hybrid  7-Speed A/T         0  15500      354.0        20      1242   \n",
       "4       Gasoline  8-Speed A/T         0  34999      232.0         3      1225   \n",
       "\n",
       "   fuel_type_id  transmission_norm  transmission_id  \n",
       "0             1                  0                9  \n",
       "1             3                  0               20  \n",
       "2             3                  0               29  \n",
       "3             4                  0               15  \n",
       "4             3                  0               20  "
      ]
     },
     "execution_count": 259,
     "metadata": {},
     "output_type": "execute_result"
    }
   ],
   "source": [
    "new_df = df.copy()\n",
    "new_df.to_csv('data/cleaned_dataset.csv', index=False)\n",
    "\n",
    "new_df.info()\n",
    "new_df.head(5)"
   ]
  },
  {
   "cell_type": "markdown",
   "metadata": {},
   "source": [
    "## ANÁLISIS EXPLORATORIO DE DATOS"
   ]
  },
  {
   "cell_type": "markdown",
   "metadata": {},
   "source": []
  }
 ],
 "metadata": {
  "kernelspec": {
   "display_name": ".venv",
   "language": "python",
   "name": "python3"
  },
  "language_info": {
   "codemirror_mode": {
    "name": "ipython",
    "version": 3
   },
   "file_extension": ".py",
   "mimetype": "text/x-python",
   "name": "python",
   "nbconvert_exporter": "python",
   "pygments_lexer": "ipython3",
   "version": "3.13.3"
  }
 },
 "nbformat": 4,
 "nbformat_minor": 2
}
